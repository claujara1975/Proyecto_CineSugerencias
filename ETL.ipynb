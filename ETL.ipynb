{
 "cells": [
  {
   "cell_type": "markdown",
   "metadata": {},
   "source": [
    "### **Proceso ETL de movies_dataset y credits**\n",
    "\n",
    "Para preparar el sistema de recomendación de películas, sigo un proceso **ETL (Extracción, Transformación y Carga)** donde desanido datos, manejo valores nulos, y calculo el retorno de inversión. Así dejo el dataset listo para la API."
   ]
  },
  {
   "cell_type": "markdown",
   "metadata": {},
   "source": [
    "#### **Importo las Librerías Necesarias**"
   ]
  },
  {
   "cell_type": "code",
   "execution_count": 1,
   "metadata": {},
   "outputs": [],
   "source": [
    "import pandas as pd             # Limpieza y manipulación de datos tabulares.\n",
    "import json                     # Manejo de columnas anidadas en formato JSON.\n",
    "import pyarrow.parquet as pq    # Almacenar y leer datos eficientemente.\n",
    "import numpy as np              # Cálculos numéricos y normalización de datos.\n",
    "import os                       # Gestionar archivos y directorios.\n",
    "import ast                      # Convertir texto en estructuras de datos útiles.\n",
    "import matplotlib.pyplot as plt # Crear gráficos para análisis exploratorio.\n"
   ]
  },
  {
   "cell_type": "markdown",
   "metadata": {},
   "source": [
    "#### **Extracción**\n",
    "\n",
    "Inicio con la **extracción** de los archivos `movies_dataset.csv` y `credits.csv`, los cuales contienen información detallada sobre películas y créditos asociados. "
   ]
  },
  {
   "cell_type": "markdown",
   "metadata": {},
   "source": [
    "Cargo los archivos CSV (originalmente trabajé con estos archivos, pero los convertí a Parquet para optimizar el procesamiento)\n",
    "movies_csv_df = pd.read_csv('https://drive.google.com/file/d/1XTJn_UNH3aXAGgUU5I6_V-_CfjlCKoTD/view?usp=drive_link')\n",
    "credits_csv_df = pd.read_csv('https://drive.google.com/file/d/1BzX8I723iJZrgcI2y58xul_ZiTdp5PDT/view?usp=drive_link')\n"
   ]
  },
  {
   "cell_type": "markdown",
   "metadata": {},
   "source": [
    "Mis datos originales estaban en formato CSV, pero los convertí a Parquet para mejorar el rendimiento. Solo dejo esta referencia para mostrar de dónde inicié mi trabajo."
   ]
  },
  {
   "cell_type": "markdown",
   "metadata": {},
   "source": [
    "#### **Cargo los archivos Parquet originales y una copia**"
   ]
  },
  {
   "cell_type": "code",
   "execution_count": 2,
   "metadata": {},
   "outputs": [
    {
     "name": "stdout",
     "output_type": "stream",
     "text": [
      "Ruta de 'movies_df': Datasets/movies_df.parquet\n",
      "Ruta de 'credits_df': Datasets/credits_df.parquet\n",
      "Tamaño de 'movies_df': 17204774 bytes\n",
      "Tamaño de 'credits_df': 68438680 bytes\n"
     ]
    }
   ],
   "source": [
    "# Cargar los archivos Parquet originales\n",
    "movies_df = pd.read_parquet('Datasets/movies_dataset_formato.parquet')\n",
    "credits_df = pd.read_parquet('Datasets/credits_formato.parquet')\n",
    "\n",
    "# Guardar las copias en formato Parquet\n",
    "movies_df.to_parquet('Datasets/movies_df.parquet', index=False)\n",
    "credits_df.to_parquet('Datasets/credits_df.parquet', index=False)\n",
    "\n",
    "# Obtener las rutas de los nuevos archivos\n",
    "movies_df_path = 'Datasets/movies_df.parquet'\n",
    "credits_df_path = 'Datasets/credits_df.parquet'\n",
    "\n",
    "# Función para obtener el tamaño del archivo\n",
    "def get_file_size(file_path):\n",
    "    return os.path.getsize(file_path)\n",
    "\n",
    "# Imprimir la ruta de cada archivo\n",
    "print(f\"Ruta de 'movies_df': {movies_df_path}\")\n",
    "print(f\"Ruta de 'credits_df': {credits_df_path}\")\n",
    "\n",
    "# Imprimir el tamaño de cada archivo\n",
    "print(f\"Tamaño de 'movies_df': {get_file_size(movies_df_path)} bytes\")\n",
    "print(f\"Tamaño de 'credits_df': {get_file_size(credits_df_path)} bytes\")"
   ]
  },
  {
   "cell_type": "markdown",
   "metadata": {},
   "source": [
    "#### **Visualización Inicial de Datos**"
   ]
  },
  {
   "cell_type": "code",
   "execution_count": 3,
   "metadata": {},
   "outputs": [
    {
     "name": "stdout",
     "output_type": "stream",
     "text": [
      "* Primeras 5 filas de 'movies_dataset':\n"
     ]
    },
    {
     "data": {
      "text/html": [
       "<div>\n",
       "<style scoped>\n",
       "    .dataframe tbody tr th:only-of-type {\n",
       "        vertical-align: middle;\n",
       "    }\n",
       "\n",
       "    .dataframe tbody tr th {\n",
       "        vertical-align: top;\n",
       "    }\n",
       "\n",
       "    .dataframe thead th {\n",
       "        text-align: right;\n",
       "    }\n",
       "</style>\n",
       "<table border=\"1\" class=\"dataframe\">\n",
       "  <thead>\n",
       "    <tr style=\"text-align: right;\">\n",
       "      <th></th>\n",
       "      <th>adult</th>\n",
       "      <th>belongs_to_collection</th>\n",
       "      <th>budget</th>\n",
       "      <th>genres</th>\n",
       "      <th>homepage</th>\n",
       "      <th>id</th>\n",
       "      <th>imdb_id</th>\n",
       "      <th>original_language</th>\n",
       "      <th>original_title</th>\n",
       "      <th>overview</th>\n",
       "      <th>...</th>\n",
       "      <th>release_date</th>\n",
       "      <th>revenue</th>\n",
       "      <th>runtime</th>\n",
       "      <th>spoken_languages</th>\n",
       "      <th>status</th>\n",
       "      <th>tagline</th>\n",
       "      <th>title</th>\n",
       "      <th>video</th>\n",
       "      <th>vote_average</th>\n",
       "      <th>vote_count</th>\n",
       "    </tr>\n",
       "  </thead>\n",
       "  <tbody>\n",
       "    <tr>\n",
       "      <th>0</th>\n",
       "      <td>False</td>\n",
       "      <td>{'id': 10194, 'name': 'Toy Story Collection', ...</td>\n",
       "      <td>30000000</td>\n",
       "      <td>[{'id': 16, 'name': 'Animation'}, {'id': 35, '...</td>\n",
       "      <td>http://toystory.disney.com/toy-story</td>\n",
       "      <td>862</td>\n",
       "      <td>tt0114709</td>\n",
       "      <td>en</td>\n",
       "      <td>Toy Story</td>\n",
       "      <td>Led by Woody, Andy's toys live happily in his ...</td>\n",
       "      <td>...</td>\n",
       "      <td>1995-10-30</td>\n",
       "      <td>373554033.0</td>\n",
       "      <td>81.0</td>\n",
       "      <td>[{'iso_639_1': 'en', 'name': 'English'}]</td>\n",
       "      <td>Released</td>\n",
       "      <td>None</td>\n",
       "      <td>Toy Story</td>\n",
       "      <td>False</td>\n",
       "      <td>7.7</td>\n",
       "      <td>5415.0</td>\n",
       "    </tr>\n",
       "    <tr>\n",
       "      <th>1</th>\n",
       "      <td>False</td>\n",
       "      <td>None</td>\n",
       "      <td>65000000</td>\n",
       "      <td>[{'id': 12, 'name': 'Adventure'}, {'id': 14, '...</td>\n",
       "      <td>None</td>\n",
       "      <td>8844</td>\n",
       "      <td>tt0113497</td>\n",
       "      <td>en</td>\n",
       "      <td>Jumanji</td>\n",
       "      <td>When siblings Judy and Peter discover an encha...</td>\n",
       "      <td>...</td>\n",
       "      <td>1995-12-15</td>\n",
       "      <td>262797249.0</td>\n",
       "      <td>104.0</td>\n",
       "      <td>[{'iso_639_1': 'en', 'name': 'English'}, {'iso...</td>\n",
       "      <td>Released</td>\n",
       "      <td>Roll the dice and unleash the excitement!</td>\n",
       "      <td>Jumanji</td>\n",
       "      <td>False</td>\n",
       "      <td>6.9</td>\n",
       "      <td>2413.0</td>\n",
       "    </tr>\n",
       "    <tr>\n",
       "      <th>2</th>\n",
       "      <td>False</td>\n",
       "      <td>{'id': 119050, 'name': 'Grumpy Old Men Collect...</td>\n",
       "      <td>0</td>\n",
       "      <td>[{'id': 10749, 'name': 'Romance'}, {'id': 35, ...</td>\n",
       "      <td>None</td>\n",
       "      <td>15602</td>\n",
       "      <td>tt0113228</td>\n",
       "      <td>en</td>\n",
       "      <td>Grumpier Old Men</td>\n",
       "      <td>A family wedding reignites the ancient feud be...</td>\n",
       "      <td>...</td>\n",
       "      <td>1995-12-22</td>\n",
       "      <td>0.0</td>\n",
       "      <td>101.0</td>\n",
       "      <td>[{'iso_639_1': 'en', 'name': 'English'}]</td>\n",
       "      <td>Released</td>\n",
       "      <td>Still Yelling. Still Fighting. Still Ready for...</td>\n",
       "      <td>Grumpier Old Men</td>\n",
       "      <td>False</td>\n",
       "      <td>6.5</td>\n",
       "      <td>92.0</td>\n",
       "    </tr>\n",
       "    <tr>\n",
       "      <th>3</th>\n",
       "      <td>False</td>\n",
       "      <td>None</td>\n",
       "      <td>16000000</td>\n",
       "      <td>[{'id': 35, 'name': 'Comedy'}, {'id': 18, 'nam...</td>\n",
       "      <td>None</td>\n",
       "      <td>31357</td>\n",
       "      <td>tt0114885</td>\n",
       "      <td>en</td>\n",
       "      <td>Waiting to Exhale</td>\n",
       "      <td>Cheated on, mistreated and stepped on, the wom...</td>\n",
       "      <td>...</td>\n",
       "      <td>1995-12-22</td>\n",
       "      <td>81452156.0</td>\n",
       "      <td>127.0</td>\n",
       "      <td>[{'iso_639_1': 'en', 'name': 'English'}]</td>\n",
       "      <td>Released</td>\n",
       "      <td>Friends are the people who let you be yourself...</td>\n",
       "      <td>Waiting to Exhale</td>\n",
       "      <td>False</td>\n",
       "      <td>6.1</td>\n",
       "      <td>34.0</td>\n",
       "    </tr>\n",
       "    <tr>\n",
       "      <th>4</th>\n",
       "      <td>False</td>\n",
       "      <td>{'id': 96871, 'name': 'Father of the Bride Col...</td>\n",
       "      <td>0</td>\n",
       "      <td>[{'id': 35, 'name': 'Comedy'}]</td>\n",
       "      <td>None</td>\n",
       "      <td>11862</td>\n",
       "      <td>tt0113041</td>\n",
       "      <td>en</td>\n",
       "      <td>Father of the Bride Part II</td>\n",
       "      <td>Just when George Banks has recovered from his ...</td>\n",
       "      <td>...</td>\n",
       "      <td>1995-02-10</td>\n",
       "      <td>76578911.0</td>\n",
       "      <td>106.0</td>\n",
       "      <td>[{'iso_639_1': 'en', 'name': 'English'}]</td>\n",
       "      <td>Released</td>\n",
       "      <td>Just When His World Is Back To Normal... He's ...</td>\n",
       "      <td>Father of the Bride Part II</td>\n",
       "      <td>False</td>\n",
       "      <td>5.7</td>\n",
       "      <td>173.0</td>\n",
       "    </tr>\n",
       "  </tbody>\n",
       "</table>\n",
       "<p>5 rows × 24 columns</p>\n",
       "</div>"
      ],
      "text/plain": [
       "   adult                              belongs_to_collection    budget  \\\n",
       "0  False  {'id': 10194, 'name': 'Toy Story Collection', ...  30000000   \n",
       "1  False                                               None  65000000   \n",
       "2  False  {'id': 119050, 'name': 'Grumpy Old Men Collect...         0   \n",
       "3  False                                               None  16000000   \n",
       "4  False  {'id': 96871, 'name': 'Father of the Bride Col...         0   \n",
       "\n",
       "                                              genres  \\\n",
       "0  [{'id': 16, 'name': 'Animation'}, {'id': 35, '...   \n",
       "1  [{'id': 12, 'name': 'Adventure'}, {'id': 14, '...   \n",
       "2  [{'id': 10749, 'name': 'Romance'}, {'id': 35, ...   \n",
       "3  [{'id': 35, 'name': 'Comedy'}, {'id': 18, 'nam...   \n",
       "4                     [{'id': 35, 'name': 'Comedy'}]   \n",
       "\n",
       "                               homepage     id    imdb_id original_language  \\\n",
       "0  http://toystory.disney.com/toy-story    862  tt0114709                en   \n",
       "1                                  None   8844  tt0113497                en   \n",
       "2                                  None  15602  tt0113228                en   \n",
       "3                                  None  31357  tt0114885                en   \n",
       "4                                  None  11862  tt0113041                en   \n",
       "\n",
       "                original_title  \\\n",
       "0                    Toy Story   \n",
       "1                      Jumanji   \n",
       "2             Grumpier Old Men   \n",
       "3            Waiting to Exhale   \n",
       "4  Father of the Bride Part II   \n",
       "\n",
       "                                            overview  ...  release_date  \\\n",
       "0  Led by Woody, Andy's toys live happily in his ...  ...    1995-10-30   \n",
       "1  When siblings Judy and Peter discover an encha...  ...    1995-12-15   \n",
       "2  A family wedding reignites the ancient feud be...  ...    1995-12-22   \n",
       "3  Cheated on, mistreated and stepped on, the wom...  ...    1995-12-22   \n",
       "4  Just when George Banks has recovered from his ...  ...    1995-02-10   \n",
       "\n",
       "       revenue runtime                                   spoken_languages  \\\n",
       "0  373554033.0    81.0           [{'iso_639_1': 'en', 'name': 'English'}]   \n",
       "1  262797249.0   104.0  [{'iso_639_1': 'en', 'name': 'English'}, {'iso...   \n",
       "2          0.0   101.0           [{'iso_639_1': 'en', 'name': 'English'}]   \n",
       "3   81452156.0   127.0           [{'iso_639_1': 'en', 'name': 'English'}]   \n",
       "4   76578911.0   106.0           [{'iso_639_1': 'en', 'name': 'English'}]   \n",
       "\n",
       "     status                                            tagline  \\\n",
       "0  Released                                               None   \n",
       "1  Released          Roll the dice and unleash the excitement!   \n",
       "2  Released  Still Yelling. Still Fighting. Still Ready for...   \n",
       "3  Released  Friends are the people who let you be yourself...   \n",
       "4  Released  Just When His World Is Back To Normal... He's ...   \n",
       "\n",
       "                         title  video vote_average vote_count  \n",
       "0                    Toy Story  False          7.7     5415.0  \n",
       "1                      Jumanji  False          6.9     2413.0  \n",
       "2             Grumpier Old Men  False          6.5       92.0  \n",
       "3            Waiting to Exhale  False          6.1       34.0  \n",
       "4  Father of the Bride Part II  False          5.7      173.0  \n",
       "\n",
       "[5 rows x 24 columns]"
      ]
     },
     "execution_count": 3,
     "metadata": {},
     "output_type": "execute_result"
    }
   ],
   "source": [
    "# Mostrar las primeras 5 filas del DataFrame de películas\n",
    "print(\"* Primeras 5 filas de 'movies_dataset':\")\n",
    "movies_df.head()"
   ]
  },
  {
   "cell_type": "code",
   "execution_count": 4,
   "metadata": {},
   "outputs": [
    {
     "name": "stdout",
     "output_type": "stream",
     "text": [
      "* Primeras 5 filas de 'credits_dataset':\n"
     ]
    },
    {
     "data": {
      "text/html": [
       "<div>\n",
       "<style scoped>\n",
       "    .dataframe tbody tr th:only-of-type {\n",
       "        vertical-align: middle;\n",
       "    }\n",
       "\n",
       "    .dataframe tbody tr th {\n",
       "        vertical-align: top;\n",
       "    }\n",
       "\n",
       "    .dataframe thead th {\n",
       "        text-align: right;\n",
       "    }\n",
       "</style>\n",
       "<table border=\"1\" class=\"dataframe\">\n",
       "  <thead>\n",
       "    <tr style=\"text-align: right;\">\n",
       "      <th></th>\n",
       "      <th>cast</th>\n",
       "      <th>crew</th>\n",
       "      <th>id</th>\n",
       "    </tr>\n",
       "  </thead>\n",
       "  <tbody>\n",
       "    <tr>\n",
       "      <th>0</th>\n",
       "      <td>[{'cast_id': 14, 'character': 'Woody (voice)',...</td>\n",
       "      <td>[{'credit_id': '52fe4284c3a36847f8024f49', 'de...</td>\n",
       "      <td>862</td>\n",
       "    </tr>\n",
       "    <tr>\n",
       "      <th>1</th>\n",
       "      <td>[{'cast_id': 1, 'character': 'Alan Parrish', '...</td>\n",
       "      <td>[{'credit_id': '52fe44bfc3a36847f80a7cd1', 'de...</td>\n",
       "      <td>8844</td>\n",
       "    </tr>\n",
       "    <tr>\n",
       "      <th>2</th>\n",
       "      <td>[{'cast_id': 2, 'character': 'Max Goldman', 'c...</td>\n",
       "      <td>[{'credit_id': '52fe466a9251416c75077a89', 'de...</td>\n",
       "      <td>15602</td>\n",
       "    </tr>\n",
       "    <tr>\n",
       "      <th>3</th>\n",
       "      <td>[{'cast_id': 1, 'character': \"Savannah 'Vannah...</td>\n",
       "      <td>[{'credit_id': '52fe44779251416c91011acb', 'de...</td>\n",
       "      <td>31357</td>\n",
       "    </tr>\n",
       "    <tr>\n",
       "      <th>4</th>\n",
       "      <td>[{'cast_id': 1, 'character': 'George Banks', '...</td>\n",
       "      <td>[{'credit_id': '52fe44959251416c75039ed7', 'de...</td>\n",
       "      <td>11862</td>\n",
       "    </tr>\n",
       "  </tbody>\n",
       "</table>\n",
       "</div>"
      ],
      "text/plain": [
       "                                                cast  \\\n",
       "0  [{'cast_id': 14, 'character': 'Woody (voice)',...   \n",
       "1  [{'cast_id': 1, 'character': 'Alan Parrish', '...   \n",
       "2  [{'cast_id': 2, 'character': 'Max Goldman', 'c...   \n",
       "3  [{'cast_id': 1, 'character': \"Savannah 'Vannah...   \n",
       "4  [{'cast_id': 1, 'character': 'George Banks', '...   \n",
       "\n",
       "                                                crew     id  \n",
       "0  [{'credit_id': '52fe4284c3a36847f8024f49', 'de...    862  \n",
       "1  [{'credit_id': '52fe44bfc3a36847f80a7cd1', 'de...   8844  \n",
       "2  [{'credit_id': '52fe466a9251416c75077a89', 'de...  15602  \n",
       "3  [{'credit_id': '52fe44779251416c91011acb', 'de...  31357  \n",
       "4  [{'credit_id': '52fe44959251416c75039ed7', 'de...  11862  "
      ]
     },
     "execution_count": 4,
     "metadata": {},
     "output_type": "execute_result"
    }
   ],
   "source": [
    "# Mostrar las primeras 5 filas del DataFrame de créditos\n",
    "print(\"* Primeras 5 filas de 'credits_dataset':\")\n",
    "credits_df.head()"
   ]
  },
  {
   "cell_type": "code",
   "execution_count": 5,
   "metadata": {},
   "outputs": [
    {
     "name": "stdout",
     "output_type": "stream",
     "text": [
      "- - - - - - - - - - - - - - - - - - - - - - - - - \n",
      "* Información del dataset:\n",
      "- - - - - - - - - - - - - - - - - - - - - - - - - \n",
      "<class 'pandas.core.frame.DataFrame'>\n",
      "RangeIndex: 45460 entries, 0 to 45459\n",
      "Data columns (total 24 columns):\n",
      " #   Column                 Non-Null Count  Dtype  \n",
      "---  ------                 --------------  -----  \n",
      " 0   adult                  45460 non-null  object \n",
      " 1   belongs_to_collection  4490 non-null   object \n",
      " 2   budget                 45460 non-null  object \n",
      " 3   genres                 45460 non-null  object \n",
      " 4   homepage               7778 non-null   object \n",
      " 5   id                     45460 non-null  object \n",
      " 6   imdb_id                45443 non-null  object \n",
      " 7   original_language      45449 non-null  object \n",
      " 8   original_title         45460 non-null  object \n",
      " 9   overview               44506 non-null  object \n",
      " 10  popularity             45460 non-null  float64\n",
      " 11  poster_path            45077 non-null  object \n",
      " 12  production_companies   45460 non-null  object \n",
      " 13  production_countries   45460 non-null  object \n",
      " 14  release_date           45376 non-null  object \n",
      " 15  revenue                45460 non-null  float64\n",
      " 16  runtime                45203 non-null  float64\n",
      " 17  spoken_languages       45460 non-null  object \n",
      " 18  status                 45379 non-null  object \n",
      " 19  tagline                20412 non-null  object \n",
      " 20  title                  45460 non-null  object \n",
      " 21  video                  45460 non-null  bool   \n",
      " 22  vote_average           45460 non-null  float64\n",
      " 23  vote_count             45460 non-null  float64\n",
      "dtypes: bool(1), float64(5), object(18)\n",
      "memory usage: 8.0+ MB\n",
      "None\n"
     ]
    }
   ],
   "source": [
    "# Obtener estructura del DataFrame de películas (nombres de columnas, tipos de datos, valores no nulos)\n",
    "print(\"- \" * 25)\n",
    "print(\"* Información del dataset:\")\n",
    "print(\"- \" * 25)\n",
    "print(movies_df.info())"
   ]
  },
  {
   "cell_type": "code",
   "execution_count": 6,
   "metadata": {},
   "outputs": [
    {
     "name": "stdout",
     "output_type": "stream",
     "text": [
      "- - - - - - - - - - - - - - - - - - - - \n",
      "* Información del dataset:\n",
      "- - - - - - - - - - - - - - - - - - - - \n",
      "<class 'pandas.core.frame.DataFrame'>\n",
      "RangeIndex: 45476 entries, 0 to 45475\n",
      "Data columns (total 3 columns):\n",
      " #   Column  Non-Null Count  Dtype \n",
      "---  ------  --------------  ----- \n",
      " 0   cast    45476 non-null  object\n",
      " 1   crew    45476 non-null  object\n",
      " 2   id      45476 non-null  int64 \n",
      "dtypes: int64(1), object(2)\n",
      "memory usage: 1.0+ MB\n",
      "None\n"
     ]
    }
   ],
   "source": [
    "# Obtener estructura del DataFrame de créditos (nombres de columnas, tipos de datos, valores no nulos)\n",
    "print(\"- \" * 20)\n",
    "print(\"* Información del dataset:\")\n",
    "print(\"- \" * 20)\n",
    "print(credits_df.info())"
   ]
  },
  {
   "cell_type": "markdown",
   "metadata": {},
   "source": [
    "**Observaciones:**\n",
    "\n",
    "Al revisar ambos datasets, noto que movies contiene información esencial sobre las películas, como el título, la fecha de lanzamiento, el presupuesto y los ingresos, permitiendo el análisis del desempeño financiero. Por otro lado, credits detalla el elenco y el equipo, útil para identificar actores y directores y analizar su influencia en el éxito de las películas. Ambos datasets se pueden unir mediante la columna id, proporcionando una visión integral del contexto de cada película. Seguiré con las transformaciones necesarias."
   ]
  },
  {
   "cell_type": "markdown",
   "metadata": {},
   "source": [
    "### **Transformaciones**\n",
    "\n",
    "Para este MVP, la rapidez es clave, por lo que realizaré las siguientes transformaciones a los datos:"
   ]
  },
  {
   "cell_type": "markdown",
   "metadata": {},
   "source": [
    "#### **Desanidado de las columnas que contienen diccionarios o listas**\n",
    "\n",
    "**Para movies_df** "
   ]
  },
  {
   "cell_type": "code",
   "execution_count": 7,
   "metadata": {},
   "outputs": [
    {
     "data": {
      "text/html": [
       "<div>\n",
       "<style scoped>\n",
       "    .dataframe tbody tr th:only-of-type {\n",
       "        vertical-align: middle;\n",
       "    }\n",
       "\n",
       "    .dataframe tbody tr th {\n",
       "        vertical-align: top;\n",
       "    }\n",
       "\n",
       "    .dataframe thead th {\n",
       "        text-align: right;\n",
       "    }\n",
       "</style>\n",
       "<table border=\"1\" class=\"dataframe\">\n",
       "  <thead>\n",
       "    <tr style=\"text-align: right;\">\n",
       "      <th></th>\n",
       "      <th>adult</th>\n",
       "      <th>budget</th>\n",
       "      <th>homepage</th>\n",
       "      <th>id</th>\n",
       "      <th>imdb_id</th>\n",
       "      <th>original_language</th>\n",
       "      <th>original_title</th>\n",
       "      <th>overview</th>\n",
       "      <th>popularity</th>\n",
       "      <th>poster_path</th>\n",
       "      <th>...</th>\n",
       "      <th>tagline</th>\n",
       "      <th>title</th>\n",
       "      <th>video</th>\n",
       "      <th>vote_average</th>\n",
       "      <th>vote_count</th>\n",
       "      <th>collection_name</th>\n",
       "      <th>production_company_names</th>\n",
       "      <th>genre_names</th>\n",
       "      <th>country_names</th>\n",
       "      <th>language_names</th>\n",
       "    </tr>\n",
       "  </thead>\n",
       "  <tbody>\n",
       "    <tr>\n",
       "      <th>0</th>\n",
       "      <td>False</td>\n",
       "      <td>30000000</td>\n",
       "      <td>http://toystory.disney.com/toy-story</td>\n",
       "      <td>862</td>\n",
       "      <td>tt0114709</td>\n",
       "      <td>en</td>\n",
       "      <td>Toy Story</td>\n",
       "      <td>Led by Woody, Andy's toys live happily in his ...</td>\n",
       "      <td>21.946943</td>\n",
       "      <td>/rhIRbceoE9lR4veEXuwCC2wARtG.jpg</td>\n",
       "      <td>...</td>\n",
       "      <td>None</td>\n",
       "      <td>Toy Story</td>\n",
       "      <td>False</td>\n",
       "      <td>7.7</td>\n",
       "      <td>5415.0</td>\n",
       "      <td>Toy Story Collection</td>\n",
       "      <td>[Pixar Animation Studios]</td>\n",
       "      <td>[Animation, Comedy, Family]</td>\n",
       "      <td>[United States of America]</td>\n",
       "      <td>[English]</td>\n",
       "    </tr>\n",
       "    <tr>\n",
       "      <th>1</th>\n",
       "      <td>False</td>\n",
       "      <td>65000000</td>\n",
       "      <td>None</td>\n",
       "      <td>8844</td>\n",
       "      <td>tt0113497</td>\n",
       "      <td>en</td>\n",
       "      <td>Jumanji</td>\n",
       "      <td>When siblings Judy and Peter discover an encha...</td>\n",
       "      <td>17.015539</td>\n",
       "      <td>/vzmL6fP7aPKNKPRTFnZmiUfciyV.jpg</td>\n",
       "      <td>...</td>\n",
       "      <td>Roll the dice and unleash the excitement!</td>\n",
       "      <td>Jumanji</td>\n",
       "      <td>False</td>\n",
       "      <td>6.9</td>\n",
       "      <td>2413.0</td>\n",
       "      <td>None</td>\n",
       "      <td>[TriStar Pictures, Teitler Film, Interscope Co...</td>\n",
       "      <td>[Adventure, Fantasy, Family]</td>\n",
       "      <td>[United States of America]</td>\n",
       "      <td>[English, Français]</td>\n",
       "    </tr>\n",
       "    <tr>\n",
       "      <th>2</th>\n",
       "      <td>False</td>\n",
       "      <td>0</td>\n",
       "      <td>None</td>\n",
       "      <td>15602</td>\n",
       "      <td>tt0113228</td>\n",
       "      <td>en</td>\n",
       "      <td>Grumpier Old Men</td>\n",
       "      <td>A family wedding reignites the ancient feud be...</td>\n",
       "      <td>11.712900</td>\n",
       "      <td>/6ksm1sjKMFLbO7UY2i6G1ju9SML.jpg</td>\n",
       "      <td>...</td>\n",
       "      <td>Still Yelling. Still Fighting. Still Ready for...</td>\n",
       "      <td>Grumpier Old Men</td>\n",
       "      <td>False</td>\n",
       "      <td>6.5</td>\n",
       "      <td>92.0</td>\n",
       "      <td>Grumpy Old Men Collection</td>\n",
       "      <td>[Warner Bros., Lancaster Gate]</td>\n",
       "      <td>[Romance, Comedy]</td>\n",
       "      <td>[United States of America]</td>\n",
       "      <td>[English]</td>\n",
       "    </tr>\n",
       "    <tr>\n",
       "      <th>3</th>\n",
       "      <td>False</td>\n",
       "      <td>16000000</td>\n",
       "      <td>None</td>\n",
       "      <td>31357</td>\n",
       "      <td>tt0114885</td>\n",
       "      <td>en</td>\n",
       "      <td>Waiting to Exhale</td>\n",
       "      <td>Cheated on, mistreated and stepped on, the wom...</td>\n",
       "      <td>3.859495</td>\n",
       "      <td>/16XOMpEaLWkrcPqSQqhTmeJuqQl.jpg</td>\n",
       "      <td>...</td>\n",
       "      <td>Friends are the people who let you be yourself...</td>\n",
       "      <td>Waiting to Exhale</td>\n",
       "      <td>False</td>\n",
       "      <td>6.1</td>\n",
       "      <td>34.0</td>\n",
       "      <td>None</td>\n",
       "      <td>[Twentieth Century Fox Film Corporation]</td>\n",
       "      <td>[Comedy, Drama, Romance]</td>\n",
       "      <td>[United States of America]</td>\n",
       "      <td>[English]</td>\n",
       "    </tr>\n",
       "    <tr>\n",
       "      <th>4</th>\n",
       "      <td>False</td>\n",
       "      <td>0</td>\n",
       "      <td>None</td>\n",
       "      <td>11862</td>\n",
       "      <td>tt0113041</td>\n",
       "      <td>en</td>\n",
       "      <td>Father of the Bride Part II</td>\n",
       "      <td>Just when George Banks has recovered from his ...</td>\n",
       "      <td>8.387519</td>\n",
       "      <td>/e64sOI48hQXyru7naBFyssKFxVd.jpg</td>\n",
       "      <td>...</td>\n",
       "      <td>Just When His World Is Back To Normal... He's ...</td>\n",
       "      <td>Father of the Bride Part II</td>\n",
       "      <td>False</td>\n",
       "      <td>5.7</td>\n",
       "      <td>173.0</td>\n",
       "      <td>Father of the Bride Collection</td>\n",
       "      <td>[Sandollar Productions, Touchstone Pictures]</td>\n",
       "      <td>[Comedy]</td>\n",
       "      <td>[United States of America]</td>\n",
       "      <td>[English]</td>\n",
       "    </tr>\n",
       "  </tbody>\n",
       "</table>\n",
       "<p>5 rows × 24 columns</p>\n",
       "</div>"
      ],
      "text/plain": [
       "   adult    budget                              homepage     id    imdb_id  \\\n",
       "0  False  30000000  http://toystory.disney.com/toy-story    862  tt0114709   \n",
       "1  False  65000000                                  None   8844  tt0113497   \n",
       "2  False         0                                  None  15602  tt0113228   \n",
       "3  False  16000000                                  None  31357  tt0114885   \n",
       "4  False         0                                  None  11862  tt0113041   \n",
       "\n",
       "  original_language               original_title  \\\n",
       "0                en                    Toy Story   \n",
       "1                en                      Jumanji   \n",
       "2                en             Grumpier Old Men   \n",
       "3                en            Waiting to Exhale   \n",
       "4                en  Father of the Bride Part II   \n",
       "\n",
       "                                            overview  popularity  \\\n",
       "0  Led by Woody, Andy's toys live happily in his ...   21.946943   \n",
       "1  When siblings Judy and Peter discover an encha...   17.015539   \n",
       "2  A family wedding reignites the ancient feud be...   11.712900   \n",
       "3  Cheated on, mistreated and stepped on, the wom...    3.859495   \n",
       "4  Just when George Banks has recovered from his ...    8.387519   \n",
       "\n",
       "                        poster_path  ...  \\\n",
       "0  /rhIRbceoE9lR4veEXuwCC2wARtG.jpg  ...   \n",
       "1  /vzmL6fP7aPKNKPRTFnZmiUfciyV.jpg  ...   \n",
       "2  /6ksm1sjKMFLbO7UY2i6G1ju9SML.jpg  ...   \n",
       "3  /16XOMpEaLWkrcPqSQqhTmeJuqQl.jpg  ...   \n",
       "4  /e64sOI48hQXyru7naBFyssKFxVd.jpg  ...   \n",
       "\n",
       "                                             tagline  \\\n",
       "0                                               None   \n",
       "1          Roll the dice and unleash the excitement!   \n",
       "2  Still Yelling. Still Fighting. Still Ready for...   \n",
       "3  Friends are the people who let you be yourself...   \n",
       "4  Just When His World Is Back To Normal... He's ...   \n",
       "\n",
       "                         title  video vote_average vote_count  \\\n",
       "0                    Toy Story  False          7.7     5415.0   \n",
       "1                      Jumanji  False          6.9     2413.0   \n",
       "2             Grumpier Old Men  False          6.5       92.0   \n",
       "3            Waiting to Exhale  False          6.1       34.0   \n",
       "4  Father of the Bride Part II  False          5.7      173.0   \n",
       "\n",
       "                  collection_name  \\\n",
       "0            Toy Story Collection   \n",
       "1                            None   \n",
       "2       Grumpy Old Men Collection   \n",
       "3                            None   \n",
       "4  Father of the Bride Collection   \n",
       "\n",
       "                            production_company_names  \\\n",
       "0                          [Pixar Animation Studios]   \n",
       "1  [TriStar Pictures, Teitler Film, Interscope Co...   \n",
       "2                     [Warner Bros., Lancaster Gate]   \n",
       "3           [Twentieth Century Fox Film Corporation]   \n",
       "4       [Sandollar Productions, Touchstone Pictures]   \n",
       "\n",
       "                    genre_names               country_names  \\\n",
       "0   [Animation, Comedy, Family]  [United States of America]   \n",
       "1  [Adventure, Fantasy, Family]  [United States of America]   \n",
       "2             [Romance, Comedy]  [United States of America]   \n",
       "3      [Comedy, Drama, Romance]  [United States of America]   \n",
       "4                      [Comedy]  [United States of America]   \n",
       "\n",
       "        language_names  \n",
       "0            [English]  \n",
       "1  [English, Français]  \n",
       "2            [English]  \n",
       "3            [English]  \n",
       "4            [English]  \n",
       "\n",
       "[5 rows x 24 columns]"
      ]
     },
     "execution_count": 7,
     "metadata": {},
     "output_type": "execute_result"
    }
   ],
   "source": [
    "# Definir una función para desanidar y extraer el valor deseado\n",
    "def desanidar_y_extraer(df, columna, campo, nueva_columna):\n",
    "    # Convertir cadenas JSON en listas o diccionarios si es necesario\n",
    "    df[columna] = df[columna].apply(lambda x: ast.literal_eval(x) if isinstance(x, str) else x)\n",
    "    # Extraer el campo específico\n",
    "    df[nueva_columna] = df[columna].apply(lambda x: [item[campo] for item in x] if isinstance(x, list) else (x.get(campo) if isinstance(x, dict) else None))\n",
    "    # Eliminar la columna original\n",
    "    df.drop(columns=[columna], inplace=True)\n",
    "\n",
    "# Diccionario que asocia columnas con el campo a extraer y el nombre de la nueva columna\n",
    "columnas_a_procesar = {\n",
    "    'belongs_to_collection': ('name', 'collection_name'),\n",
    "    'production_companies': ('name', 'production_company_names'),\n",
    "    'genres': ('name', 'genre_names'),\n",
    "    'production_countries': ('name', 'country_names'),\n",
    "    'spoken_languages': ('name', 'language_names')\n",
    "}\n",
    "\n",
    "# Iterar sobre el diccionario para aplicar el desanidado y extracción a cada columna\n",
    "for columna, (campo, nueva_columna) in columnas_a_procesar.items():\n",
    "    desanidar_y_extraer(movies_df, columna, campo, nueva_columna)\n",
    "\n",
    "# Verificar los cambios\n",
    "movies_df.head()"
   ]
  },
  {
   "cell_type": "markdown",
   "metadata": {},
   "source": [
    "Para desanidar los datos, implementé una función que convierte cadenas JSON en listas o diccionarios y luego extrae los campos que me interesan. Esto me permitió crear nuevas columnas como `collection_name`, `production_company_names`, `genre_names`, `country_names` y `language_names`, dejando el DataFrame más limpio y organizado para el análisis. Además, eliminé las columnas originales anidadas para mantener el conjunto de datos más manejable."
   ]
  },
  {
   "cell_type": "markdown",
   "metadata": {},
   "source": [
    "**Para credits_df**\n",
    "\n",
    "Desanidaré las columnas `cast` y `crew` de `credits_df`, convirtiendo las cadenas de texto en listas de diccionarios. Luego, extraeré detalles clave como `id`, `nombre`, `personaje`, `trabajo` y `género`, organizándolos en DataFrames separados (`cast_df` y `crew_df`) para una estructura de datos más manejable y eficiente."
   ]
  },
  {
   "cell_type": "code",
   "execution_count": 8,
   "metadata": {},
   "outputs": [],
   "source": [
    "# Desanidar la columna 'cast'\n",
    "cast_data = []\n",
    "for index, row in credits_df.iterrows():\n",
    "    # Convertir 'cast' de cadena a lista de diccionarios, si es necesario\n",
    "    cast_list = ast.literal_eval(row['cast']) if pd.notna(row['cast']) else []\n",
    "    for cast_member in cast_list:\n",
    "        cast_data.append({\n",
    "            'id': row['id'],\n",
    "            'cast_name': cast_member.get('name'),\n",
    "            'character': cast_member.get('character'),\n",
    "            'gender': cast_member.get('gender')\n",
    "        })\n",
    "\n",
    "# Crear un DataFrame a partir de los datos del elenco\n",
    "cast_df = pd.DataFrame(cast_data)\n",
    "\n",
    "# Desanidar la columna 'crew'\n",
    "crew_data = []\n",
    "for index, row in credits_df.iterrows():\n",
    "    # Convertir 'crew' de cadena a lista de diccionarios, si es necesario\n",
    "    crew_list = ast.literal_eval(row['crew']) if pd.notna(row['crew']) else []\n",
    "    for crew_member in crew_list:\n",
    "        crew_data.append({\n",
    "            'id': row['id'],\n",
    "            'crew_name': crew_member.get('name'),\n",
    "            'crew_job': crew_member.get('job'),\n",
    "            'department': crew_member.get('department'),\n",
    "            'gender': crew_member.get('gender')\n",
    "        })\n",
    "\n",
    "# Crear un DataFrame a partir de los datos del equipo\n",
    "crew_df = pd.DataFrame(crew_data)"
   ]
  },
  {
   "cell_type": "code",
   "execution_count": 9,
   "metadata": {},
   "outputs": [
    {
     "name": "stdout",
     "output_type": "stream",
     "text": [
      "* Primeras filas de cast_df\n",
      "    id      cast_name                character  gender\n",
      "0  862      Tom Hanks            Woody (voice)       2\n",
      "1  862      Tim Allen   Buzz Lightyear (voice)       2\n",
      "2  862    Don Rickles  Mr. Potato Head (voice)       2\n",
      "3  862     Jim Varney       Slinky Dog (voice)       2\n",
      "4  862  Wallace Shawn              Rex (voice)       2\n",
      "- - - - - - - - - - - - - - - - - - - - - - - - - - - -\n",
      "* Primeras filas de crew_df\n",
      "    id       crew_name    crew_job department  gender\n",
      "0  862   John Lasseter    Director  Directing       2\n",
      "1  862     Joss Whedon  Screenplay    Writing       2\n",
      "2  862  Andrew Stanton  Screenplay    Writing       2\n",
      "3  862      Joel Cohen  Screenplay    Writing       2\n",
      "4  862    Alec Sokolow  Screenplay    Writing       0\n"
     ]
    }
   ],
   "source": [
    "# Mostrar las primeras filas de los nuevos DataFrames\n",
    "print(\"* Primeras filas de cast_df\")\n",
    "print(cast_df.head())\n",
    "print(\"- - - - - - - - - - - - - - - - - - - - - - - - - - - -\")\n",
    "print(\"* Primeras filas de crew_df\")\n",
    "print(crew_df.head())"
   ]
  },
  {
   "cell_type": "code",
   "execution_count": 10,
   "metadata": {},
   "outputs": [
    {
     "name": "stdout",
     "output_type": "stream",
     "text": [
      "* Dimensiones del DataFrame 'cast_df':\n",
      "* Número de filas: 562474\n",
      "* Número de columnas: 4\n",
      "- - - - - - - - - - - - - - - - - - - - - -\n",
      "* Dimensiones del DataFrame 'crew_df':\n",
      "* Número de filas: 464314\n",
      "* Número de columnas: 5\n"
     ]
    }
   ],
   "source": [
    "# Mostrar el número de filas y columnas de ambos DataFrames\n",
    "print(\"* Dimensiones del DataFrame 'cast_df':\")\n",
    "print(\"* Número de filas:\", cast_df.shape[0])\n",
    "print(\"* Número de columnas:\", cast_df.shape[1])\n",
    "print(\"- - - - - - - - - - - - - - - - - - - - - -\")\n",
    "print(\"* Dimensiones del DataFrame 'crew_df':\")\n",
    "print(\"* Número de filas:\", crew_df.shape[0])\n",
    "print(\"* Número de columnas:\", crew_df.shape[1])"
   ]
  },
  {
   "cell_type": "markdown",
   "metadata": {},
   "source": [
    "Para desanidar las columnas `cast` y `crew`, recorrí el DataFrame `credits_df` y convertí las cadenas en listas de diccionarios. Luego, extraje información clave del elenco, como `cast_name`, `character` y `gender`, y datos del equipo técnico, como `crew_name`, `crew_job`, `department` y `gender`. Creé nuevos DataFrames (`cast_df` y `crew_df`) para organizar estos detalles, manteniendo la estructura más clara y lista para el análisis."
   ]
  },
  {
   "cell_type": "markdown",
   "metadata": {},
   "source": [
    "#### **Guardar estos nuevos Dataset 'Cast_df' y 'Crew_df'**"
   ]
  },
  {
   "cell_type": "code",
   "execution_count": 11,
   "metadata": {},
   "outputs": [],
   "source": [
    "# Guardar en formato Parquet\n",
    "cast_df.to_parquet('Datasets/cast_df.parquet', index=False)\n",
    "crew_df.to_parquet('Datasets/crew_df.parquet', index=False)"
   ]
  },
  {
   "cell_type": "markdown",
   "metadata": {},
   "source": [
    "Después de desanidar los datos de `cast` y `crew`, los guardé en formato Parquet para optimizar el almacenamiento y el rendimiento en futuras cargas. Este formato me permite manejar grandes volúmenes de datos de manera eficiente, lo que es crucial para un proyecto como este que involucra procesamiento y análisis extensivos."
   ]
  },
  {
   "cell_type": "markdown",
   "metadata": {},
   "source": [
    "#### **Reemplazar los valores nulos en las columnas revenue y budget con 0 en movies_df**"
   ]
  },
  {
   "cell_type": "code",
   "execution_count": 12,
   "metadata": {},
   "outputs": [
    {
     "name": "stdout",
     "output_type": "stream",
     "text": [
      "* Valores nulos en revenue: 0\n",
      "* Valores nulos en budget: 0\n"
     ]
    }
   ],
   "source": [
    "# Reemplazo de valores nulos en las columnas 'revenue' y 'budget' de movies_df sin el argumento inplace\n",
    "movies_df['revenue'] = movies_df['revenue'].fillna(0)\n",
    "movies_df['budget'] = movies_df['budget'].fillna(0)\n",
    "\n",
    "# Verificación de los cambios realizados\n",
    "print(\"* Valores nulos en revenue:\", movies_df['revenue'].isnull().sum())\n",
    "print(\"* Valores nulos en budget:\", movies_df['budget'].isnull().sum())\n"
   ]
  },
  {
   "cell_type": "markdown",
   "metadata": {},
   "source": [
    "#### **Eliminar las filas donde release_date tiene valores nulos en movies_df**"
   ]
  },
  {
   "cell_type": "code",
   "execution_count": 13,
   "metadata": {},
   "outputs": [
    {
     "name": "stdout",
     "output_type": "stream",
     "text": [
      "* Valores nulos en release_date: 0\n",
      "* Número de filas después de la eliminación: 45376\n"
     ]
    }
   ],
   "source": [
    "# Eliminación de filas con valores nulos en la columna 'release_date'\n",
    "movies_df = movies_df.dropna(subset=['release_date'])\n",
    "\n",
    "# Verificación de la eliminación\n",
    "print(\"* Valores nulos en release_date:\", movies_df['release_date'].isnull().sum())\n",
    "print(\"* Número de filas después de la eliminación:\", movies_df.shape[0])\n"
   ]
  },
  {
   "cell_type": "markdown",
   "metadata": {},
   "source": [
    "#### **Fechas en release_date en formato AAAA-mm-dd y Crear una nueva columna release_year con el año de cada fecha**"
   ]
  },
  {
   "cell_type": "code",
   "execution_count": 14,
   "metadata": {},
   "outputs": [
    {
     "name": "stdout",
     "output_type": "stream",
     "text": [
      "* Primeras filas de release_date y release_year:\n",
      "  release_date  release_year\n",
      "0   1995-10-30          1995\n",
      "1   1995-12-15          1995\n",
      "2   1995-12-22          1995\n",
      "3   1995-12-22          1995\n",
      "4   1995-02-10          1995\n"
     ]
    }
   ],
   "source": [
    "# Convertir 'release_date' al formato AAAA-mm-dd\n",
    "movies_df['release_date'] = pd.to_datetime(movies_df['release_date'], errors='coerce').dt.strftime('%Y-%m-%d')\n",
    "\n",
    "# Crear la columna 'release_year' extrayendo el año de 'release_date' y asegurando que sea un entero\n",
    "movies_df['release_year'] = pd.to_datetime(movies_df['release_date'], errors='coerce').dt.year.astype('Int64')\n",
    "\n",
    "# Verificación de los cambios\n",
    "print(\"* Primeras filas de release_date y release_year:\")\n",
    "print(movies_df[['release_date', 'release_year']].head())\n",
    "\n"
   ]
  },
  {
   "cell_type": "markdown",
   "metadata": {},
   "source": [
    "#### **Crear una columna return que calcule el retorno de inversión usando los campos revenue y budget.**"
   ]
  },
  {
   "cell_type": "code",
   "execution_count": 15,
   "metadata": {},
   "outputs": [
    {
     "name": "stdout",
     "output_type": "stream",
     "text": [
      "* Primeras filas de revenue, budget y return:\n",
      "       revenue    budget     return\n",
      "0  373554033.0  30000000  12.451801\n",
      "1  262797249.0  65000000   4.043035\n",
      "2          0.0         0   0.000000\n",
      "3   81452156.0  16000000   5.090760\n",
      "4   76578911.0         0   0.000000\n"
     ]
    }
   ],
   "source": [
    "# Convertir las columnas 'revenue' y 'budget' a tipo numérico, reemplazando errores con 0\n",
    "movies_df['revenue'] = pd.to_numeric(movies_df['revenue'], errors='coerce').fillna(0)\n",
    "movies_df['budget'] = pd.to_numeric(movies_df['budget'], errors='coerce').fillna(0)\n",
    "\n",
    "# Crear la columna 'return' calculando revenue / budget, con valor 0 cuando no hay datos o budget es 0\n",
    "movies_df['return'] = movies_df.apply(lambda row: row['revenue'] / row['budget'] if row['budget'] > 0 else 0, axis=1)\n",
    "\n",
    "# Verificación de los cambios\n",
    "print(\"* Primeras filas de revenue, budget y return:\")\n",
    "print(movies_df[['revenue', 'budget', 'return']].head())\n"
   ]
  },
  {
   "cell_type": "markdown",
   "metadata": {},
   "source": [
    "#### **Eliminar columnas innecesarias (video, imdb_id, adult, original_title, poster_path, y homepage) de movies_df**"
   ]
  },
  {
   "cell_type": "code",
   "execution_count": 16,
   "metadata": {},
   "outputs": [
    {
     "name": "stdout",
     "output_type": "stream",
     "text": [
      "* Columnas después de la eliminación:\n",
      " Index(['budget', 'id', 'original_language', 'overview', 'popularity',\n",
      "       'release_date', 'revenue', 'runtime', 'status', 'tagline', 'title',\n",
      "       'vote_average', 'vote_count', 'collection_name',\n",
      "       'production_company_names', 'genre_names', 'country_names',\n",
      "       'language_names', 'release_year', 'return'],\n",
      "      dtype='object')\n"
     ]
    }
   ],
   "source": [
    "# Eliminar columnas no utilizadas\n",
    "movies_df = movies_df.drop(columns=['video', 'imdb_id', 'adult', 'original_title', 'poster_path', 'homepage'])\n",
    "\n",
    "# Verificación de las columnas restantes\n",
    "print(f\"* Columnas después de la eliminación:\\n {movies_df.columns}\")\n"
   ]
  },
  {
   "cell_type": "markdown",
   "metadata": {},
   "source": [
    "#### **Limpieza de los Dataset**\n",
    "\n",
    "####  **Movies_df**"
   ]
  },
  {
   "cell_type": "code",
   "execution_count": 17,
   "metadata": {},
   "outputs": [
    {
     "name": "stdout",
     "output_type": "stream",
     "text": [
      "<class 'pandas.core.frame.DataFrame'>\n",
      "Index: 45376 entries, 0 to 45459\n",
      "Data columns (total 20 columns):\n",
      " #   Column                    Non-Null Count  Dtype  \n",
      "---  ------                    --------------  -----  \n",
      " 0   budget                    45376 non-null  int64  \n",
      " 1   id                        45376 non-null  object \n",
      " 2   original_language         45365 non-null  object \n",
      " 3   overview                  44435 non-null  object \n",
      " 4   popularity                45376 non-null  float64\n",
      " 5   release_date              45376 non-null  object \n",
      " 6   revenue                   45376 non-null  float64\n",
      " 7   runtime                   45130 non-null  float64\n",
      " 8   status                    45296 non-null  object \n",
      " 9   tagline                   20398 non-null  object \n",
      " 10  title                     45376 non-null  object \n",
      " 11  vote_average              45376 non-null  float64\n",
      " 12  vote_count                45376 non-null  float64\n",
      " 13  collection_name           4488 non-null   object \n",
      " 14  production_company_names  45376 non-null  object \n",
      " 15  genre_names               45376 non-null  object \n",
      " 16  country_names             45376 non-null  object \n",
      " 17  language_names            45376 non-null  object \n",
      " 18  release_year              45376 non-null  Int64  \n",
      " 19  return                    45376 non-null  float64\n",
      "dtypes: Int64(1), float64(6), int64(1), object(12)\n",
      "memory usage: 7.3+ MB\n"
     ]
    }
   ],
   "source": [
    "# Visualizar las primeras filas y las columnas\n",
    "movies_df.head()\n",
    "movies_df.info()"
   ]
  },
  {
   "cell_type": "markdown",
   "metadata": {},
   "source": [
    "#### **Convertir tipo de datos**"
   ]
  },
  {
   "cell_type": "code",
   "execution_count": 18,
   "metadata": {},
   "outputs": [
    {
     "name": "stdout",
     "output_type": "stream",
     "text": [
      "Tipos de datos después de los cambios:\n",
      "budget                         int64\n",
      "id                            object\n",
      "original_language           category\n",
      "overview                      object\n",
      "popularity                   float64\n",
      "release_date                  object\n",
      "revenue                      float64\n",
      "runtime                      float64\n",
      "status                      category\n",
      "tagline                       object\n",
      "title                         object\n",
      "vote_average                 float64\n",
      "vote_count                   float64\n",
      "collection_name             category\n",
      "production_company_names    category\n",
      "genre_names                 category\n",
      "country_names               category\n",
      "language_names              category\n",
      "release_year                   Int64\n",
      "return                       float64\n",
      "dtype: object\n"
     ]
    }
   ],
   "source": [
    "# Convertir 'id' a string si es un identificador\n",
    "movies_df['id'] = movies_df['id'].astype(str)\n",
    "\n",
    "# Convertir columnas con listas a tipo string para luego tratarlas como categorías\n",
    "columns_with_lists = ['production_company_names', 'genre_names', 'country_names', 'language_names']\n",
    "for col in columns_with_lists:\n",
    "    movies_df[col] = movies_df[col].apply(lambda x: ', '.join(x) if isinstance(x, list) else x)\n",
    "\n",
    "# Convertir columnas categóricas a tipo 'category'\n",
    "categorical_columns = ['original_language', 'status', 'collection_name', \n",
    "                       'production_company_names', 'genre_names', 'country_names', 'language_names']\n",
    "movies_df[categorical_columns] = movies_df[categorical_columns].astype('category')\n",
    "\n",
    "# Verificación final de los tipos de datos\n",
    "print(\"Tipos de datos después de los cambios:\")\n",
    "print(movies_df.dtypes)"
   ]
  },
  {
   "cell_type": "code",
   "execution_count": 19,
   "metadata": {},
   "outputs": [
    {
     "name": "stdout",
     "output_type": "stream",
     "text": [
      "      id                           production_company_names  \\\n",
      "0    862                            Pixar Animation Studios   \n",
      "1   8844  TriStar Pictures, Teitler Film, Interscope Com...   \n",
      "2  15602                       Warner Bros., Lancaster Gate   \n",
      "3  31357             Twentieth Century Fox Film Corporation   \n",
      "4  11862         Sandollar Productions, Touchstone Pictures   \n",
      "\n",
      "                  genre_names  \n",
      "0   Animation, Comedy, Family  \n",
      "1  Adventure, Fantasy, Family  \n",
      "2             Romance, Comedy  \n",
      "3      Comedy, Drama, Romance  \n",
      "4                      Comedy  \n"
     ]
    }
   ],
   "source": [
    "print(movies_df[['id', 'production_company_names', 'genre_names']].head())"
   ]
  },
  {
   "cell_type": "code",
   "execution_count": 20,
   "metadata": {},
   "outputs": [
    {
     "name": "stdout",
     "output_type": "stream",
     "text": [
      "      id                           production_company_names  \\\n",
      "0    862                            Pixar Animation Studios   \n",
      "1   8844  TriStar Pictures, Teitler Film, Interscope Com...   \n",
      "2  15602                       Warner Bros., Lancaster Gate   \n",
      "3  31357             Twentieth Century Fox Film Corporation   \n",
      "4  11862         Sandollar Productions, Touchstone Pictures   \n",
      "\n",
      "                  genre_names  \n",
      "0   Animation, Comedy, Family  \n",
      "1  Adventure, Fantasy, Family  \n",
      "2             Romance, Comedy  \n",
      "3      Comedy, Drama, Romance  \n",
      "4                      Comedy  \n"
     ]
    }
   ],
   "source": [
    "# Convertir columnas con listas a tipo string, separadas por comas\n",
    "columns_with_lists = ['production_company_names', 'genre_names']\n",
    "for col in columns_with_lists:\n",
    "    movies_df[col] = movies_df[col].apply(lambda x: ', '.join(x) if isinstance(x, list) else x)\n",
    "\n",
    "# Verificar si el cambio se aplicó correctamente\n",
    "print(movies_df[['id', 'production_company_names', 'genre_names']].head())\n"
   ]
  },
  {
   "cell_type": "markdown",
   "metadata": {},
   "source": [
    "\n",
    "#### **valores nulos.**\n"
   ]
  },
  {
   "cell_type": "code",
   "execution_count": 21,
   "metadata": {},
   "outputs": [
    {
     "name": "stdout",
     "output_type": "stream",
     "text": [
      "                   Null Count  Percentage\n",
      "original_language          11    0.024242\n",
      "overview                  941    2.073783\n",
      "runtime                   246    0.542137\n",
      "status                     80    0.176305\n",
      "tagline                 24978   55.046721\n",
      "collection_name         40888   90.109309\n"
     ]
    },
    {
     "data": {
      "image/png": "[encoded data removed]",
      "text/plain": [
       "<Figure size 1000x600 with 1 Axes>"
      ]
     },
     "metadata": {},
     "output_type": "display_data"
    }
   ],
   "source": [
    "# Contar valores nulos en cada columna\n",
    "null_counts = movies_df.isnull().sum()\n",
    "\n",
    "# Crear un DataFrame para visualizar los resultados\n",
    "null_counts_df = pd.DataFrame(null_counts, columns=['Null Count'])\n",
    "null_counts_df['Percentage'] = (null_counts_df['Null Count'] / len(movies_df)) * 100\n",
    "\n",
    "# Mostrar las columnas con valores nulos\n",
    "print(null_counts_df[null_counts_df['Null Count'] > 0])\n",
    "\n",
    "# Ajustar el tamaño de la figura y graficar la distribución de valores nulos\n",
    "plt.figure(figsize=(10, 6))\n",
    "null_counts_df[null_counts_df['Null Count'] > 0].sort_values(by='Null Count', ascending=False).plot(\n",
    "    kind='bar', legend=False, color='skyblue', ax=plt.gca()\n",
    ")\n",
    "plt.title('Distribución de Valores Nulos por Columna', fontsize=14)\n",
    "plt.xlabel('Columnas', fontsize=12)\n",
    "plt.ylabel('Cantidad de Valores Nulos', fontsize=12)\n",
    "plt.xticks(rotation=45, ha='right', fontsize=10)\n",
    "plt.tight_layout()  # Ajusta automáticamente el gráfico para que no se corte\n",
    "plt.grid(axis='y', linestyle='--', alpha=0.7)\n",
    "plt.show()\n"
   ]
  },
  {
   "cell_type": "markdown",
   "metadata": {},
   "source": [
    "#### **Eliminar las columnas**\n",
    "\n",
    "He decidido eliminar las columnas 'collection_name' y 'tagline' debido a que presentan una alta cantidad de valores nulos. 'collection_name' tiene un 90.11 % de valores nulos, mientras que 'tagline' tiene un 55.05 %. Estas proporciones significan que gran parte de la información en estas columnas está ausente, limitando su utilidad para el análisis y modelos futuros. Por lo tanto, simplifico el dataset eliminando estas variables.\n"
   ]
  },
  {
   "cell_type": "code",
   "execution_count": 22,
   "metadata": {},
   "outputs": [
    {
     "name": "stdout",
     "output_type": "stream",
     "text": [
      "* Columnas restantes:\n",
      "Index(['budget', 'id', 'original_language', 'overview', 'popularity',\n",
      "       'release_date', 'revenue', 'runtime', 'status', 'title', 'vote_average',\n",
      "       'vote_count', 'production_company_names', 'genre_names',\n",
      "       'country_names', 'language_names', 'release_year', 'return'],\n",
      "      dtype='object')\n"
     ]
    }
   ],
   "source": [
    "# Eliminar las columnas collection_name y tagline\n",
    "movies_df.drop(columns=['collection_name', 'tagline'], inplace=True)\n",
    "\n",
    "# Confirmar que las columnas han sido eliminadas\n",
    "print(\"* Columnas restantes:\")\n",
    "print(movies_df.columns)"
   ]
  },
  {
   "cell_type": "markdown",
   "metadata": {},
   "source": [
    "#### **Eliminar valores nulos (filas)**\n",
    "\n",
    "Eliminaré los registros con valores nulos en estas columnas, ya que son cruciales para el análisis y la recomendación. Información como el idioma original y la descripción de la película aporta contexto esencial, mientras que la popularidad, la fecha de estreno y la duración son vitales para caracterizar correctamente cada película."
   ]
  },
  {
   "cell_type": "code",
   "execution_count": 23,
   "metadata": {},
   "outputs": [
    {
     "name": "stdout",
     "output_type": "stream",
     "text": [
      "* Cantidad de registros después de eliminar nulos:\n",
      "44361\n"
     ]
    }
   ],
   "source": [
    "# Eliminar filas con valores nulos en las columnas especificadas\n",
    "movies_df.dropna(subset=[\n",
    "    'original_language', 'overview', 'popularity', 'release_date', \n",
    "    'runtime', 'status', 'title', 'vote_average', 'vote_count', \n",
    "    'production_company_names', 'country_names', 'language_names', 'release_year'\n",
    "], inplace=True)\n",
    "\n",
    "# Confirmar que se han eliminado los valores nulos\n",
    "print(\"* Cantidad de registros después de eliminar nulos:\")\n",
    "print(movies_df.shape[0])\n"
   ]
  },
  {
   "cell_type": "markdown",
   "metadata": {},
   "source": [
    "#### **Eliminar duplicados**"
   ]
  },
  {
   "cell_type": "code",
   "execution_count": 24,
   "metadata": {},
   "outputs": [
    {
     "name": "stdout",
     "output_type": "stream",
     "text": [
      "Cantidad de duplicados en movies_df: 17\n"
     ]
    }
   ],
   "source": [
    "# Verificar duplicados en movies_df\n",
    "duplicados_movies = movies_df.duplicated().sum()\n",
    "print(f\"Cantidad de duplicados en movies_df: {duplicados_movies}\")"
   ]
  },
  {
   "cell_type": "code",
   "execution_count": 25,
   "metadata": {},
   "outputs": [
    {
     "name": "stdout",
     "output_type": "stream",
     "text": [
      "Duplicados eliminados en movies_df.\n"
     ]
    }
   ],
   "source": [
    "# Eliminar duplicados en movies_df (si los hay)\n",
    "if duplicados_movies > 0:\n",
    "    movies_df = movies_df.drop_duplicates()\n",
    "    print(\"Duplicados eliminados en movies_df.\")\n",
    "else:\n",
    "    print(\"No hay duplicados en movies_df.\")"
   ]
  },
  {
   "cell_type": "markdown",
   "metadata": {},
   "source": [
    "####  **Cast_df**\n",
    "#### **Valores Nulos**"
   ]
  },
  {
   "cell_type": "code",
   "execution_count": 26,
   "metadata": {},
   "outputs": [
    {
     "name": "stdout",
     "output_type": "stream",
     "text": [
      "id           0\n",
      "cast_name    0\n",
      "character    0\n",
      "gender       0\n",
      "dtype: int64\n"
     ]
    }
   ],
   "source": [
    "# Ver la cantidad de valores nulos por columna\n",
    "print(cast_df.isnull().sum())"
   ]
  },
  {
   "cell_type": "code",
   "execution_count": 27,
   "metadata": {},
   "outputs": [
    {
     "data": {
      "text/html": [
       "<div>\n",
       "<style scoped>\n",
       "    .dataframe tbody tr th:only-of-type {\n",
       "        vertical-align: middle;\n",
       "    }\n",
       "\n",
       "    .dataframe tbody tr th {\n",
       "        vertical-align: top;\n",
       "    }\n",
       "\n",
       "    .dataframe thead th {\n",
       "        text-align: right;\n",
       "    }\n",
       "</style>\n",
       "<table border=\"1\" class=\"dataframe\">\n",
       "  <thead>\n",
       "    <tr style=\"text-align: right;\">\n",
       "      <th></th>\n",
       "      <th>id</th>\n",
       "      <th>cast_name</th>\n",
       "      <th>character</th>\n",
       "      <th>gender</th>\n",
       "    </tr>\n",
       "  </thead>\n",
       "  <tbody>\n",
       "    <tr>\n",
       "      <th>0</th>\n",
       "      <td>862</td>\n",
       "      <td>Tom Hanks</td>\n",
       "      <td>Woody (voice)</td>\n",
       "      <td>2</td>\n",
       "    </tr>\n",
       "    <tr>\n",
       "      <th>1</th>\n",
       "      <td>862</td>\n",
       "      <td>Tim Allen</td>\n",
       "      <td>Buzz Lightyear (voice)</td>\n",
       "      <td>2</td>\n",
       "    </tr>\n",
       "    <tr>\n",
       "      <th>2</th>\n",
       "      <td>862</td>\n",
       "      <td>Don Rickles</td>\n",
       "      <td>Mr. Potato Head (voice)</td>\n",
       "      <td>2</td>\n",
       "    </tr>\n",
       "    <tr>\n",
       "      <th>3</th>\n",
       "      <td>862</td>\n",
       "      <td>Jim Varney</td>\n",
       "      <td>Slinky Dog (voice)</td>\n",
       "      <td>2</td>\n",
       "    </tr>\n",
       "    <tr>\n",
       "      <th>4</th>\n",
       "      <td>862</td>\n",
       "      <td>Wallace Shawn</td>\n",
       "      <td>Rex (voice)</td>\n",
       "      <td>2</td>\n",
       "    </tr>\n",
       "    <tr>\n",
       "      <th>...</th>\n",
       "      <td>...</td>\n",
       "      <td>...</td>\n",
       "      <td>...</td>\n",
       "      <td>...</td>\n",
       "    </tr>\n",
       "    <tr>\n",
       "      <th>562469</th>\n",
       "      <td>227506</td>\n",
       "      <td>Iwan Mosschuchin</td>\n",
       "      <td></td>\n",
       "      <td>2</td>\n",
       "    </tr>\n",
       "    <tr>\n",
       "      <th>562470</th>\n",
       "      <td>227506</td>\n",
       "      <td>Nathalie Lissenko</td>\n",
       "      <td></td>\n",
       "      <td>1</td>\n",
       "    </tr>\n",
       "    <tr>\n",
       "      <th>562471</th>\n",
       "      <td>227506</td>\n",
       "      <td>Pavel Pavlov</td>\n",
       "      <td></td>\n",
       "      <td>2</td>\n",
       "    </tr>\n",
       "    <tr>\n",
       "      <th>562472</th>\n",
       "      <td>227506</td>\n",
       "      <td>Aleksandr Chabrov</td>\n",
       "      <td></td>\n",
       "      <td>0</td>\n",
       "    </tr>\n",
       "    <tr>\n",
       "      <th>562473</th>\n",
       "      <td>227506</td>\n",
       "      <td>Vera Orlova</td>\n",
       "      <td></td>\n",
       "      <td>1</td>\n",
       "    </tr>\n",
       "  </tbody>\n",
       "</table>\n",
       "<p>562474 rows × 4 columns</p>\n",
       "</div>"
      ],
      "text/plain": [
       "            id          cast_name                character  gender\n",
       "0          862          Tom Hanks            Woody (voice)       2\n",
       "1          862          Tim Allen   Buzz Lightyear (voice)       2\n",
       "2          862        Don Rickles  Mr. Potato Head (voice)       2\n",
       "3          862         Jim Varney       Slinky Dog (voice)       2\n",
       "4          862      Wallace Shawn              Rex (voice)       2\n",
       "...        ...                ...                      ...     ...\n",
       "562469  227506   Iwan Mosschuchin                                2\n",
       "562470  227506  Nathalie Lissenko                                1\n",
       "562471  227506       Pavel Pavlov                                2\n",
       "562472  227506  Aleksandr Chabrov                                0\n",
       "562473  227506        Vera Orlova                                1\n",
       "\n",
       "[562474 rows x 4 columns]"
      ]
     },
     "execution_count": 27,
     "metadata": {},
     "output_type": "execute_result"
    }
   ],
   "source": [
    "cast_df"
   ]
  },
  {
   "cell_type": "code",
   "execution_count": 28,
   "metadata": {},
   "outputs": [
    {
     "name": "stdout",
     "output_type": "stream",
     "text": [
      "* Hay 25782 filas vacías en la columna 'character'\n"
     ]
    }
   ],
   "source": [
    "print(f\"* Hay {(cast_df['character'] == '').sum()} filas vacías en la columna 'character'\")"
   ]
  },
  {
   "cell_type": "code",
   "execution_count": 29,
   "metadata": {},
   "outputs": [
    {
     "name": "stdout",
     "output_type": "stream",
     "text": [
      "* Cantidad de registros después de eliminar cadenas vacías en 'character': 536692\n"
     ]
    }
   ],
   "source": [
    "# Eliminar registros donde 'character' es una cadena vacía\n",
    "cast_df_cleaned = cast_df[cast_df['character'] != \"\"]\n",
    "\n",
    "# Contar la cantidad de registros después de la limpieza\n",
    "cantidad_registros = cast_df_cleaned.shape[0]\n",
    "print(f\"* Cantidad de registros después de eliminar cadenas vacías en 'character': {cantidad_registros}\")"
   ]
  },
  {
   "cell_type": "code",
   "execution_count": 30,
   "metadata": {},
   "outputs": [
    {
     "name": "stdout",
     "output_type": "stream",
     "text": [
      "* Hay 25782 filas vacías en la columna 'character'\n"
     ]
    }
   ],
   "source": [
    "# Contar filas donde 'character' es NaN o una cadena vacía\n",
    "filas_vacias = cast_df['character'].isna().sum() + (cast_df['character'] == \"\").sum()\n",
    "print(f\"* Hay {filas_vacias} filas vacías en la columna 'character'\")"
   ]
  },
  {
   "cell_type": "code",
   "execution_count": 31,
   "metadata": {},
   "outputs": [
    {
     "name": "stdout",
     "output_type": "stream",
     "text": [
      "* Antes de la eliminación, hay 25782 filas vacías en la columna 'character'.\n",
      "* Después de la eliminación, hay 0 filas vacías en la columna 'character'.\n"
     ]
    }
   ],
   "source": [
    "# Contar filas donde 'character' es NaN o una cadena vacía antes de la eliminación\n",
    "filas_vacias_before = cast_df['character'].isna().sum() + (cast_df['character'] == \"\").sum()\n",
    "print(f\"* Antes de la eliminación, hay {filas_vacias_before} filas vacías en la columna 'character'.\")\n",
    "\n",
    "# Eliminar filas donde 'character' es NaN o una cadena vacía\n",
    "cast_df = cast_df.dropna(subset=['character'])  # Eliminar NaN\n",
    "cast_df = cast_df[cast_df['character'] != \"\"]   # Eliminar cadenas vacías\n",
    "\n",
    "# Contar filas donde 'character' es NaN o una cadena vacía después de la eliminación\n",
    "filas_vacias_after = cast_df['character'].isna().sum() + (cast_df['character'] == \"\").sum()\n",
    "print(f\"* Después de la eliminación, hay {filas_vacias_after} filas vacías en la columna 'character'.\")"
   ]
  },
  {
   "cell_type": "code",
   "execution_count": 32,
   "metadata": {},
   "outputs": [
    {
     "name": "stdout",
     "output_type": "stream",
     "text": [
      "* Hay 16186 filas con caracteres inusuales en 'character'.\n",
      "         id                  cast_name                     character  gender\n",
      "200    9091           Raymond J. Barry   Vizepräsident Daniel Bender       2\n",
      "237    9087  Clement von Franckenstein  President René Jean D'Astier       2\n",
      "339     524              Dick Smothers                      Sénateur       2\n",
      "688   78802         Elizabeth McGovern             Noëlle Guillaumet       1\n",
      "691   78802                  Ron Sauvé            Jean-René Lefèbvre       0\n",
      "1274  48750            Michel Boujenah                   André Ziman       2\n",
      "1277  48750             Annie Girardot              Thénardière 1942       1\n",
      "1278  48750           Philippe Léotard               Thénardier 1942       2\n",
      "1281  48750                      Rufus        Thénardier 1830 / 1990       2\n",
      "1282  48750           Nicole Croisille       Thénardière 1830 / 1990       0\n"
     ]
    }
   ],
   "source": [
    "# Verificar si hay caracteres inusuales en la columna 'character'\n",
    "caracteres_inusuales = cast_df[cast_df['character'].str.contains(r'[^\\x00-\\x7F]', regex=True, na=False)]\n",
    "print(f\"* Hay {caracteres_inusuales.shape[0]} filas con caracteres inusuales en 'character'.\")\n",
    "\n",
    "# Mostrar algunas de estas filas si existen\n",
    "if not caracteres_inusuales.empty:\n",
    "    print(caracteres_inusuales.head(10))\n",
    "else:\n",
    "    print(\"No se encontraron caracteres inusuales en la columna 'character'.\")"
   ]
  },
  {
   "cell_type": "code",
   "execution_count": 33,
   "metadata": {},
   "outputs": [
    {
     "name": "stdout",
     "output_type": "stream",
     "text": [
      "* Ahora hay 520506 filas en el DataFrame 'cast_df' después de eliminar caracteres inusuales.\n"
     ]
    }
   ],
   "source": [
    "# Eliminar filas con caracteres inusuales\n",
    "cast_df = cast_df[~cast_df['character'].str.contains(r'[^\\x00-\\x7F]', regex=True, na=False)]\n",
    "\n",
    "# Ver cuántas filas quedan ahora\n",
    "print(f\"* Ahora hay {cast_df.shape[0]} filas en el DataFrame 'cast_df' después de eliminar caracteres inusuales.\")\n"
   ]
  },
  {
   "cell_type": "code",
   "execution_count": 34,
   "metadata": {},
   "outputs": [
    {
     "name": "stdout",
     "output_type": "stream",
     "text": [
      "* Hay 0 filas vacías en la columna 'cast_name'\n"
     ]
    }
   ],
   "source": [
    "print(f\"* Hay {(cast_df['cast_name'] == '').sum()} filas vacías en la columna 'cast_name'\")"
   ]
  },
  {
   "cell_type": "code",
   "execution_count": 35,
   "metadata": {},
   "outputs": [
    {
     "name": "stdout",
     "output_type": "stream",
     "text": [
      "* Hay 24073 filas con caracteres inusuales en 'cast_name'.\n",
      "        id          cast_name                        character  gender\n",
      "145  11860       Miriam Colón                             Rosa       1\n",
      "147  11860  Valérie Lemercier                          Martine       1\n",
      "159  11860     François Genty                Make-Up Assistant       0\n",
      "161  11860        Inés Sastre                            Model       1\n",
      "212    710       Tchéky Karyo  Defense Minister Dmitri Mishkin       2\n",
      "389   4584    Emilie François                Margaret Dashwood       0\n",
      "493   9691   Germán Legarreta                     Kid in plaza       2\n",
      "514  16420        Irène Jacob                        Desdemona       1\n",
      "517  16420          Indra Ové                           Bianca       0\n",
      "539  17015       Ciarán Hinds      Captain Frederick Wentworth       2\n"
     ]
    }
   ],
   "source": [
    "# Verificar si hay caracteres inusuales en la columna 'cast_name'\n",
    "caracteres_inusuales = cast_df[cast_df['cast_name'].str.contains(r'[^\\x00-\\x7F]', regex=True, na=False)]\n",
    "print(f\"* Hay {caracteres_inusuales.shape[0]} filas con caracteres inusuales en 'cast_name'.\")\n",
    "\n",
    "# Mostrar algunas de estas filas si existen\n",
    "if not caracteres_inusuales.empty:\n",
    "    print(caracteres_inusuales.head(10))\n",
    "else:\n",
    "    print(\"No se encontraron caracteres inusuales en la columna 'cast_name'.\")\n"
   ]
  },
  {
   "cell_type": "code",
   "execution_count": 36,
   "metadata": {},
   "outputs": [
    {
     "name": "stdout",
     "output_type": "stream",
     "text": [
      "* Después de eliminar, quedan 496433 filas en el DataFrame.\n"
     ]
    }
   ],
   "source": [
    "# Eliminar filas con caracteres inusuales en 'cast_name'\n",
    "cast_df = cast_df[~cast_df['cast_name'].str.contains(r'[^\\x00-\\x7F]', regex=True, na=False)]\n",
    "print(f\"* Después de eliminar, quedan {cast_df.shape[0]} filas en el DataFrame.\")"
   ]
  },
  {
   "cell_type": "markdown",
   "metadata": {},
   "source": [
    "Realicé un proceso exhaustivo de limpieza en el DataFrame `cast_df` para eliminar valores nulos en la columna `'character'`, utilizando diversas técnicas, ya que inicialmente no se detectaban. Decidí eliminar los registros vacíos en esta columna porque no aportan información útil y pueden afectar la calidad de los resultados. Esto me permite trabajar con un conjunto de datos más robusto y confiable, dejando **520,505 filas** restantes. Ahora procederé a verificar y eliminar posibles filas duplicadas antes de guardar el DataFrame limpio en un archivo Parquet."
   ]
  },
  {
   "cell_type": "markdown",
   "metadata": {},
   "source": [
    "#### **Eliminar duplicados**"
   ]
  },
  {
   "cell_type": "code",
   "execution_count": 37,
   "metadata": {},
   "outputs": [
    {
     "name": "stdout",
     "output_type": "stream",
     "text": [
      "Cantidad de duplicados en cast_df: 425\n"
     ]
    }
   ],
   "source": [
    "# Verificar duplicados en cast_df\n",
    "duplicados_cast = cast_df.duplicated().sum()\n",
    "print(f\"Cantidad de duplicados en cast_df: {duplicados_cast}\")"
   ]
  },
  {
   "cell_type": "code",
   "execution_count": 38,
   "metadata": {},
   "outputs": [
    {
     "name": "stdout",
     "output_type": "stream",
     "text": [
      "Duplicados eliminados en cast_df.\n"
     ]
    }
   ],
   "source": [
    "# Eliminar duplicados en cast_df (si los hay)\n",
    "if duplicados_cast > 0:\n",
    "    cast_df = cast_df.drop_duplicates()\n",
    "    print(\"Duplicados eliminados en cast_df.\")\n",
    "else:\n",
    "    print(\"No hay duplicados en cast_df.\")"
   ]
  },
  {
   "cell_type": "markdown",
   "metadata": {},
   "source": [
    "Decidí eliminar los registros duplicados en mi DataFrame porque pueden distorsionar el análisis y dar lugar a resultados sesgados. Al hacerlo, aseguro que cada entrada en el conjunto de datos sea única, lo que mejora la calidad de los resultados de mis modelos y la integridad de mi análisis."
   ]
  },
  {
   "cell_type": "markdown",
   "metadata": {},
   "source": [
    "#### **Crew_df**"
   ]
  },
  {
   "cell_type": "code",
   "execution_count": 39,
   "metadata": {},
   "outputs": [
    {
     "data": {
      "text/html": [
       "<div>\n",
       "<style scoped>\n",
       "    .dataframe tbody tr th:only-of-type {\n",
       "        vertical-align: middle;\n",
       "    }\n",
       "\n",
       "    .dataframe tbody tr th {\n",
       "        vertical-align: top;\n",
       "    }\n",
       "\n",
       "    .dataframe thead th {\n",
       "        text-align: right;\n",
       "    }\n",
       "</style>\n",
       "<table border=\"1\" class=\"dataframe\">\n",
       "  <thead>\n",
       "    <tr style=\"text-align: right;\">\n",
       "      <th></th>\n",
       "      <th>id</th>\n",
       "      <th>crew_name</th>\n",
       "      <th>crew_job</th>\n",
       "      <th>department</th>\n",
       "      <th>gender</th>\n",
       "    </tr>\n",
       "  </thead>\n",
       "  <tbody>\n",
       "    <tr>\n",
       "      <th>0</th>\n",
       "      <td>862</td>\n",
       "      <td>John Lasseter</td>\n",
       "      <td>Director</td>\n",
       "      <td>Directing</td>\n",
       "      <td>2</td>\n",
       "    </tr>\n",
       "    <tr>\n",
       "      <th>1</th>\n",
       "      <td>862</td>\n",
       "      <td>Joss Whedon</td>\n",
       "      <td>Screenplay</td>\n",
       "      <td>Writing</td>\n",
       "      <td>2</td>\n",
       "    </tr>\n",
       "    <tr>\n",
       "      <th>2</th>\n",
       "      <td>862</td>\n",
       "      <td>Andrew Stanton</td>\n",
       "      <td>Screenplay</td>\n",
       "      <td>Writing</td>\n",
       "      <td>2</td>\n",
       "    </tr>\n",
       "    <tr>\n",
       "      <th>3</th>\n",
       "      <td>862</td>\n",
       "      <td>Joel Cohen</td>\n",
       "      <td>Screenplay</td>\n",
       "      <td>Writing</td>\n",
       "      <td>2</td>\n",
       "    </tr>\n",
       "    <tr>\n",
       "      <th>4</th>\n",
       "      <td>862</td>\n",
       "      <td>Alec Sokolow</td>\n",
       "      <td>Screenplay</td>\n",
       "      <td>Writing</td>\n",
       "      <td>0</td>\n",
       "    </tr>\n",
       "    <tr>\n",
       "      <th>...</th>\n",
       "      <td>...</td>\n",
       "      <td>...</td>\n",
       "      <td>...</td>\n",
       "      <td>...</td>\n",
       "      <td>...</td>\n",
       "    </tr>\n",
       "    <tr>\n",
       "      <th>464309</th>\n",
       "      <td>67758</td>\n",
       "      <td>Richard McHugh</td>\n",
       "      <td>Original Music Composer</td>\n",
       "      <td>Sound</td>\n",
       "      <td>0</td>\n",
       "    </tr>\n",
       "    <tr>\n",
       "      <th>464310</th>\n",
       "      <td>67758</td>\n",
       "      <td>João Fernandes</td>\n",
       "      <td>Director of Photography</td>\n",
       "      <td>Camera</td>\n",
       "      <td>2</td>\n",
       "    </tr>\n",
       "    <tr>\n",
       "      <th>464311</th>\n",
       "      <td>227506</td>\n",
       "      <td>Yakov Protazanov</td>\n",
       "      <td>Director</td>\n",
       "      <td>Directing</td>\n",
       "      <td>0</td>\n",
       "    </tr>\n",
       "    <tr>\n",
       "      <th>464312</th>\n",
       "      <td>227506</td>\n",
       "      <td>Joseph N. Ermolieff</td>\n",
       "      <td>Producer</td>\n",
       "      <td>Production</td>\n",
       "      <td>2</td>\n",
       "    </tr>\n",
       "    <tr>\n",
       "      <th>464313</th>\n",
       "      <td>461257</td>\n",
       "      <td>Daisy Asquith</td>\n",
       "      <td>Director</td>\n",
       "      <td>Directing</td>\n",
       "      <td>0</td>\n",
       "    </tr>\n",
       "  </tbody>\n",
       "</table>\n",
       "<p>464314 rows × 5 columns</p>\n",
       "</div>"
      ],
      "text/plain": [
       "            id            crew_name                 crew_job  department  \\\n",
       "0          862        John Lasseter                 Director   Directing   \n",
       "1          862          Joss Whedon               Screenplay     Writing   \n",
       "2          862       Andrew Stanton               Screenplay     Writing   \n",
       "3          862           Joel Cohen               Screenplay     Writing   \n",
       "4          862         Alec Sokolow               Screenplay     Writing   \n",
       "...        ...                  ...                      ...         ...   \n",
       "464309   67758       Richard McHugh  Original Music Composer       Sound   \n",
       "464310   67758       João Fernandes  Director of Photography      Camera   \n",
       "464311  227506     Yakov Protazanov                 Director   Directing   \n",
       "464312  227506  Joseph N. Ermolieff                 Producer  Production   \n",
       "464313  461257        Daisy Asquith                 Director   Directing   \n",
       "\n",
       "        gender  \n",
       "0            2  \n",
       "1            2  \n",
       "2            2  \n",
       "3            2  \n",
       "4            0  \n",
       "...        ...  \n",
       "464309       0  \n",
       "464310       2  \n",
       "464311       0  \n",
       "464312       2  \n",
       "464313       0  \n",
       "\n",
       "[464314 rows x 5 columns]"
      ]
     },
     "execution_count": 39,
     "metadata": {},
     "output_type": "execute_result"
    }
   ],
   "source": [
    "crew_df"
   ]
  },
  {
   "cell_type": "markdown",
   "metadata": {},
   "source": [
    "#### **Valores Nulos**"
   ]
  },
  {
   "cell_type": "code",
   "execution_count": 40,
   "metadata": {},
   "outputs": [
    {
     "name": "stdout",
     "output_type": "stream",
     "text": [
      "id            0\n",
      "crew_name     0\n",
      "crew_job      0\n",
      "department    0\n",
      "gender        0\n",
      "dtype: int64\n"
     ]
    }
   ],
   "source": [
    "# Ver la cantidad de valores nulos por columna\n",
    "valores_nulos = crew_df.isnull().sum() + (crew_df == \"\").sum()\n",
    "print(valores_nulos)\n"
   ]
  },
  {
   "cell_type": "markdown",
   "metadata": {},
   "source": [
    "#### **Registros duplicados**"
   ]
  },
  {
   "cell_type": "code",
   "execution_count": 41,
   "metadata": {},
   "outputs": [
    {
     "name": "stdout",
     "output_type": "stream",
     "text": [
      "Cantidad de registros duplicados: 608\n"
     ]
    }
   ],
   "source": [
    "# Contar la cantidad de registros duplicados\n",
    "cantidad_duplicados = crew_df.duplicated().sum()\n",
    "print(f\"Cantidad de registros duplicados: {cantidad_duplicados}\")"
   ]
  },
  {
   "cell_type": "code",
   "execution_count": 42,
   "metadata": {},
   "outputs": [
    {
     "name": "stdout",
     "output_type": "stream",
     "text": [
      "Cantidad de registros después de eliminar duplicados: 463706\n"
     ]
    }
   ],
   "source": [
    "# Eliminar registros duplicados\n",
    "crew_df_cleaned = crew_df.drop_duplicates()\n",
    "\n",
    "# Contar la cantidad de registros después de eliminar duplicados\n",
    "cantidad_registros_despues_duplicados = crew_df_cleaned.shape[0]\n",
    "print(f\"Cantidad de registros después de eliminar duplicados: {cantidad_registros_despues_duplicados}\")\n"
   ]
  },
  {
   "cell_type": "code",
   "execution_count": 43,
   "metadata": {},
   "outputs": [
    {
     "name": "stdout",
     "output_type": "stream",
     "text": [
      "count    4.434400e+04\n",
      "mean     1.148957e+07\n",
      "std      6.511207e+07\n",
      "min      0.000000e+00\n",
      "25%      0.000000e+00\n",
      "50%      0.000000e+00\n",
      "75%      0.000000e+00\n",
      "max      2.787965e+09\n",
      "Name: revenue, dtype: float64\n"
     ]
    }
   ],
   "source": [
    "# Convertir las columnas 'id' a tipo int y asegurarse de que 'revenue' no tenga valores nulos\n",
    "cast_df['id'] = cast_df['id'].astype(int)\n",
    "movies_df['id'] = movies_df['id'].astype(int)\n",
    "\n",
    "# Eliminar duplicados en cast_df para evitar contar la misma película varias veces\n",
    "cast_df = cast_df.drop_duplicates(subset=['id', 'cast_name'])\n",
    "\n",
    "# Opcional: Puedes revisar los valores extremos de 'revenue'\n",
    "# Mostrar las estadísticas descriptivas para detectar outliers\n",
    "print(movies_df['revenue'].describe())\n"
   ]
  },
  {
   "cell_type": "markdown",
   "metadata": {},
   "source": [
    "El resumen estadístico de la columna `revenue` muestra que hay 44,344 entradas, con un ingreso promedio de aproximadamente 11.49 millones, aunque la mayoría tiene ingresos de 0. Esto indica una gran variabilidad en los ingresos, con algunas películas generando hasta casi 2.79 mil millones."
   ]
  },
  {
   "cell_type": "markdown",
   "metadata": {},
   "source": [
    "#### **Guardar los Datasets después de las transformaciones**"
   ]
  },
  {
   "cell_type": "code",
   "execution_count": 44,
   "metadata": {},
   "outputs": [
    {
     "name": "stdout",
     "output_type": "stream",
     "text": [
      "* El archivo 'movies_df.parquet' pesa aproximadamente 12.27 MB.\n",
      "* El archivo 'credits_df.parquet' pesa aproximadamente 65.27 MB.\n",
      "* El archivo 'crew_df.parquet' pesa aproximadamente 5.62 MB.\n",
      "* El archivo 'cast_df.parquet' pesa aproximadamente 10.51 MB.\n",
      "* Archivos Parquet guardados nuevamente con éxito.\n"
     ]
    }
   ],
   "source": [
    "# Asegúrate de que los DataFrames tienen los nombres correctos\n",
    "# (Reemplaza estos DataFrames con los datos que ya has procesado)\n",
    "# movies_df, credits_df, crew_df, cast_df deben existir previamente en tu código\n",
    "\n",
    "# Volver a guardar los DataFrames con los nombres correctos\n",
    "movies_df.to_parquet('Datasets/movies_df.parquet', index=False)\n",
    "credits_df.to_parquet('Datasets/credits_df.parquet', index=False)\n",
    "crew_df.to_parquet('Datasets/crew_df.parquet', index=False)\n",
    "cast_df.to_parquet('Datasets/cast_df.parquet', index=False)\n",
    "\n",
    "# Definir las rutas de los archivos\n",
    "ruta_movies = 'Datasets/movies_df.parquet'\n",
    "ruta_credits = 'Datasets/credits_df.parquet'\n",
    "ruta_crew = 'Datasets/crew_df.parquet'\n",
    "ruta_cast = 'Datasets/cast_df.parquet'\n",
    "\n",
    "# Función para obtener y mostrar el tamaño del archivo en MB\n",
    "def mostrar_tamaño_archivo(ruta):\n",
    "    tamaño = os.path.getsize(ruta) / (1024 * 1024)  # Conversión a MB\n",
    "    print(f\"* El archivo '{os.path.basename(ruta)}' pesa aproximadamente {tamaño:.2f} MB.\")\n",
    "\n",
    "# Obtener y mostrar el tamaño de cada archivo\n",
    "for ruta in [ruta_movies, ruta_credits, ruta_crew, ruta_cast]:\n",
    "    mostrar_tamaño_archivo(ruta)\n",
    "\n",
    "# Confirmación de que los archivos se han guardado correctamente\n",
    "print(\"* Archivos Parquet guardados nuevamente con éxito.\")"
   ]
  },
  {
   "cell_type": "markdown",
   "metadata": {},
   "source": [
    "Al incluir los DataFrames cast_df y crew_df, me aseguro de que toda la información relevante del proyecto se guarda y está disponible para análisis futuros. Verificar el tamaño de los archivos también permite monitorizar el uso de espacio y confirmar que los datos han sido gestionados correctamente, lo que es fundamental en el manejo de grandes conjuntos de datos."
   ]
  }
 ],
 "metadata": {
  "kernelspec": {
   "display_name": "CineSugerenciasenv",
   "language": "python",
   "name": "python3"
  },
  "language_info": {
   "codemirror_mode": {
    "name": "ipython",
    "version": 3
   },
   "file_extension": ".py",
   "mimetype": "text/x-python",
   "name": "python",
   "nbconvert_exporter": "python",
   "pygments_lexer": "ipython3",
   "version": "3.11.4"
  }
 },
 "nbformat": 4,
 "nbformat_minor": 2
}
