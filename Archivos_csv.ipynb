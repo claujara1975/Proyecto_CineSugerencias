{
 "cells": [
  {
   "cell_type": "markdown",
   "metadata": {},
   "source": [
    "#### **Optimización de Datos**: Conversión a Parquet.\n",
    "\n",
    "En el proceso de manejo de datos, primero cargo los archivos credits.csv y movies_dataset.csv en DataFrames, los convierto a formato Parquet para optimizar el rendimiento y, luego, elimino los archivos CSV originales. Posteriormente, trabajo con los archivos Parquet en todas las fases del proyecto para asegurar un manejo más eficiente de los datos."
   ]
  },
  {
   "cell_type": "markdown",
   "metadata": {},
   "source": [
    "#### **Importo las Librerías Necesarias**"
   ]
  },
  {
   "cell_type": "code",
   "execution_count": 1,
   "metadata": {},
   "outputs": [],
   "source": [
    "import pandas as pd             # Limpieza y manipulación de datos tabulares.\n",
    "import json                     # Manejo de columnas anidadas en formato JSON.\n",
    "import pyarrow.parquet as pq    # Almacenar y leer datos eficientemente.\n",
    "import numpy as np              # Cálculos numéricos y normalización de datos.\n",
    "import os                       # Gestionar archivos y directorios.\n",
    "import ast                      # Convertir texto en estructuras de datos útiles.\n",
    "import matplotlib.pyplot as plt # Crear gráficos para análisis exploratorio."
   ]
  },
  {
   "cell_type": "markdown",
   "metadata": {},
   "source": [
    "#### **Cargo los archivos CSV**"
   ]
  },
  {
   "cell_type": "code",
   "execution_count": null,
   "metadata": {},
   "outputs": [],
   "source": [
    "# Leer el archivo credits.csv\n",
    "credits_csv_df = pd.read_csv('Datasets/credits.csv')\n",
    "\n",
    "# Leer el archivo movies_dataset.csv\n",
    "movies_csv_df = pd.read_csv('Datasets/movies_dataset.csv')\n",
    "\n",
    "# Mostrar las primeras filas de cada DataFrame\n",
    "print(\"* Datos de credits:\")\n",
    "print(credits_csv_df.head())\n",
    "\n",
    "print(\"\\n* Datos de movies_dataset:\")\n",
    "print(movies_csv_df.head())"
   ]
  },
  {
   "cell_type": "markdown",
   "metadata": {},
   "source": [
    "#### **Convertir `movies_dataset.csv` y `credits.csv` a Formato Parquet**\n",
    "\n",
    "**Para movies_dataset** "
   ]
  },
  {
   "cell_type": "code",
   "execution_count": 10,
   "metadata": {},
   "outputs": [
    {
     "name": "stdout",
     "output_type": "stream",
     "text": [
      "* Archivos guardados en formato Parquet con nombres diferenciados.\n"
     ]
    }
   ],
   "source": [
    "# Convertir la columna 'popularity' a tipo float, manejando errores\n",
    "movies_csv_df['popularity'] = pd.to_numeric(movies_csv_df['popularity'], errors='coerce')\n",
    "\n",
    "# Guardar los DataFrames en formato Parquet con nombres únicos\n",
    "credits_csv_df.to_parquet('Datasets/credits_formato.parquet', index=False)\n",
    "movies_csv_df.to_parquet('Datasets/movies_dataset_formato.parquet', index=False)\n",
    "\n",
    "print(\"* Archivos guardados en formato Parquet con nombres diferenciados.\")"
   ]
  },
  {
   "cell_type": "markdown",
   "metadata": {},
   "source": [
    "\n",
    "\n",
    "Durante la conversión a formato Parquet, encontré un error relacionado con la columna **popularity**. Al investigar, descubrí que algunos valores eran de tipo texto en lugar de numéricos, lo que impedía la conversión adecuada. Para corregir esto, identifiqué y eliminé los valores no numéricos, y luego convertí la columna a tipo float para asegurar la compatibilidad. Tras esta limpieza, pude convertir el dataset a Parquet sin problemas, optimizándolo y dejándolo listo para el análisis."
   ]
  },
  {
   "cell_type": "markdown",
   "metadata": {},
   "source": [
    "#### **Verificar que no hay valores NaN en la columna popularity de csv**"
   ]
  },
  {
   "cell_type": "code",
   "execution_count": 11,
   "metadata": {},
   "outputs": [
    {
     "name": "stdout",
     "output_type": "stream",
     "text": [
      "Cantidad de valores NaN en 'popularity': 6\n",
      "\n",
      "Ejemplos de filas con valores NaN en 'popularity':\n",
      "                                                   adult  \\\n",
      "19729                                              False   \n",
      "19730                                 - Written by Ørnås   \n",
      "29502                                              False   \n",
      "29503   Rune Balot goes to a casino connected to the ...   \n",
      "35586                                              False   \n",
      "\n",
      "                                   belongs_to_collection  \\\n",
      "19729                                                NaN   \n",
      "19730                                           0.065736   \n",
      "29502  {'id': 122661, 'name': 'Mardock Scramble Colle...   \n",
      "29503                                           1.931659   \n",
      "35586                                                NaN   \n",
      "\n",
      "                                 budget  \\\n",
      "19729                                 0   \n",
      "19730  /ff9qCepilowshEtG2GYWwzt2bs4.jpg   \n",
      "29502                                 0   \n",
      "29503  /zV8bHuSL6WXoD6FWogP9j4x80bL.jpg   \n",
      "35586                                 0   \n",
      "\n",
      "                                                  genres  \\\n",
      "19729  [{'id': 28, 'name': 'Action'}, {'id': 53, 'nam...   \n",
      "19730  [{'name': 'Carousel Productions', 'id': 11176}...   \n",
      "29502  [{'id': 16, 'name': 'Animation'}, {'id': 878, ...   \n",
      "29503  [{'name': 'Aniplex', 'id': 2883}, {'name': 'Go...   \n",
      "35586  [{'id': 10770, 'name': 'TV Movie'}, {'id': 28,...   \n",
      "\n",
      "                                                homepage          id  \\\n",
      "19729                                                NaN       82663   \n",
      "19730  [{'iso_3166_1': 'CA', 'name': 'Canada'}, {'iso...  1997-08-20   \n",
      "29502                      http://m-scramble.jp/exhaust/      122662   \n",
      "29503  [{'iso_3166_1': 'US', 'name': 'United States o...  2012-09-29   \n",
      "35586                                                NaN      249260   \n",
      "\n",
      "         imdb_id original_language                            original_title  \\\n",
      "19729  tt0113002                en                              Midnight Man   \n",
      "19730          0             104.0  [{'iso_639_1': 'en', 'name': 'English'}]   \n",
      "29502  tt2423504                ja                          マルドゥック・スクランブル 排気   \n",
      "29503          0              68.0      [{'iso_639_1': 'ja', 'name': '日本語'}]   \n",
      "35586  tt2622826                en                          Avalanche Sharks   \n",
      "\n",
      "                                                overview  ...  release_date  \\\n",
      "19729  British soldiers force a recently captured IRA...  ...           NaN   \n",
      "19730                                           Released  ...             1   \n",
      "29502         Third film of the Mardock Scramble series.  ...           NaN   \n",
      "29503                                           Released  ...            12   \n",
      "35586  A group of skiers are terrorized during spring...  ...           NaN   \n",
      "\n",
      "      revenue runtime spoken_languages status  tagline  title video  \\\n",
      "19729     NaN     NaN              NaN    NaN      NaN    NaN   NaN   \n",
      "19730     NaN     NaN              NaN    NaN      NaN    NaN   NaN   \n",
      "29502     NaN     NaN              NaN    NaN      NaN    NaN   NaN   \n",
      "29503     NaN     NaN              NaN    NaN      NaN    NaN   NaN   \n",
      "35586     NaN     NaN              NaN    NaN      NaN    NaN   NaN   \n",
      "\n",
      "      vote_average vote_count  \n",
      "19729          NaN        NaN  \n",
      "19730          NaN        NaN  \n",
      "29502          NaN        NaN  \n",
      "29503          NaN        NaN  \n",
      "35586          NaN        NaN  \n",
      "\n",
      "[5 rows x 24 columns]\n"
     ]
    }
   ],
   "source": [
    "# Revisar cuántos valores son NaN en la columna 'popularity' después de la conversión\n",
    "print(\"Cantidad de valores NaN en 'popularity':\", movies_csv_df['popularity'].isna().sum())\n",
    "\n",
    "# Mostrar algunos ejemplos de valores NaN si existen\n",
    "valores_nan = movies_csv_df[movies_csv_df['popularity'].isna()]\n",
    "print(\"\\nEjemplos de filas con valores NaN en 'popularity':\")\n",
    "print(valores_nan.head())\n"
   ]
  },
  {
   "cell_type": "code",
   "execution_count": 12,
   "metadata": {},
   "outputs": [
    {
     "name": "stdout",
     "output_type": "stream",
     "text": [
      "Cantidad de valores NaN en 'popularity' después de la eliminación: 0\n"
     ]
    }
   ],
   "source": [
    "# Eliminar filas donde 'popularity' sea NaN\n",
    "movies_csv_df = movies_csv_df.dropna(subset=['popularity'])\n",
    "\n",
    "# Verificar nuevamente cuántos valores NaN quedan en 'popularity'\n",
    "print(\"Cantidad de valores NaN en 'popularity' después de la eliminación:\", movies_csv_df['popularity'].isna().sum())"
   ]
  },
  {
   "cell_type": "code",
   "execution_count": 13,
   "metadata": {},
   "outputs": [
    {
     "name": "stdout",
     "output_type": "stream",
     "text": [
      "* Archivo guardado en formato Parquet después de eliminar NaNs en 'popularity'.\n"
     ]
    }
   ],
   "source": [
    "# Guardar el DataFrame actualizado en formato Parquet\n",
    "movies_csv_df.to_parquet('Datasets/movies_dataset_formato.parquet', index=False)\n",
    "\n",
    "print(\"* Archivo guardado en formato Parquet después de eliminar NaNs en 'popularity'.\")"
   ]
  },
  {
   "cell_type": "markdown",
   "metadata": {},
   "source": [
    "**Cargar y Analizar Tamaño de Archivos Parquet**\n",
    "\n",
    "Defino las rutas y leo los archivos Parquet para evaluar su tamaño en MB."
   ]
  },
  {
   "cell_type": "code",
   "execution_count": 14,
   "metadata": {},
   "outputs": [
    {
     "name": "stdout",
     "output_type": "stream",
     "text": [
      "Tamaño de 'original_movies_df': 17207877 bytes\n",
      "Tamaño de 'original_credits_df': 68441610 bytes\n"
     ]
    }
   ],
   "source": [
    "# Rutas de los archivos originales\n",
    "movies_original_path = 'Datasets/movies_dataset_formato.parquet'\n",
    "credits_original_path = 'Datasets/credits_formato.parquet'\n",
    "\n",
    "# Cargar los archivos Parquet originales\n",
    "original_movies_df = pd.read_parquet(movies_original_path)\n",
    "original_credits_df = pd.read_parquet(credits_original_path)\n",
    "\n",
    "# Función para obtener el tamaño del archivo\n",
    "def get_file_size(file_path):\n",
    "    return os.path.getsize(file_path)\n",
    "\n",
    "# Imprimir el tamaño de cada archivo\n",
    "print(f\"Tamaño de 'original_movies_df': {get_file_size(movies_original_path)} bytes\")\n",
    "print(f\"Tamaño de 'original_credits_df': {get_file_size(credits_original_path)} bytes\")\n"
   ]
  },
  {
   "cell_type": "markdown",
   "metadata": {},
   "source": [
    "#### **Visualización Inicial de Datos**"
   ]
  },
  {
   "cell_type": "code",
   "execution_count": 15,
   "metadata": {},
   "outputs": [
    {
     "name": "stdout",
     "output_type": "stream",
     "text": [
      "* Primeras 5 filas de 'movies_dataset':\n"
     ]
    },
    {
     "data": {
      "text/html": [
       "<div>\n",
       "<style scoped>\n",
       "    .dataframe tbody tr th:only-of-type {\n",
       "        vertical-align: middle;\n",
       "    }\n",
       "\n",
       "    .dataframe tbody tr th {\n",
       "        vertical-align: top;\n",
       "    }\n",
       "\n",
       "    .dataframe thead th {\n",
       "        text-align: right;\n",
       "    }\n",
       "</style>\n",
       "<table border=\"1\" class=\"dataframe\">\n",
       "  <thead>\n",
       "    <tr style=\"text-align: right;\">\n",
       "      <th></th>\n",
       "      <th>adult</th>\n",
       "      <th>belongs_to_collection</th>\n",
       "      <th>budget</th>\n",
       "      <th>genres</th>\n",
       "      <th>homepage</th>\n",
       "      <th>id</th>\n",
       "      <th>imdb_id</th>\n",
       "      <th>original_language</th>\n",
       "      <th>original_title</th>\n",
       "      <th>overview</th>\n",
       "      <th>...</th>\n",
       "      <th>release_date</th>\n",
       "      <th>revenue</th>\n",
       "      <th>runtime</th>\n",
       "      <th>spoken_languages</th>\n",
       "      <th>status</th>\n",
       "      <th>tagline</th>\n",
       "      <th>title</th>\n",
       "      <th>video</th>\n",
       "      <th>vote_average</th>\n",
       "      <th>vote_count</th>\n",
       "    </tr>\n",
       "  </thead>\n",
       "  <tbody>\n",
       "    <tr>\n",
       "      <th>0</th>\n",
       "      <td>False</td>\n",
       "      <td>{'id': 10194, 'name': 'Toy Story Collection', ...</td>\n",
       "      <td>30000000</td>\n",
       "      <td>[{'id': 16, 'name': 'Animation'}, {'id': 35, '...</td>\n",
       "      <td>http://toystory.disney.com/toy-story</td>\n",
       "      <td>862</td>\n",
       "      <td>tt0114709</td>\n",
       "      <td>en</td>\n",
       "      <td>Toy Story</td>\n",
       "      <td>Led by Woody, Andy's toys live happily in his ...</td>\n",
       "      <td>...</td>\n",
       "      <td>1995-10-30</td>\n",
       "      <td>373554033.0</td>\n",
       "      <td>81.0</td>\n",
       "      <td>[{'iso_639_1': 'en', 'name': 'English'}]</td>\n",
       "      <td>Released</td>\n",
       "      <td>None</td>\n",
       "      <td>Toy Story</td>\n",
       "      <td>False</td>\n",
       "      <td>7.7</td>\n",
       "      <td>5415.0</td>\n",
       "    </tr>\n",
       "    <tr>\n",
       "      <th>1</th>\n",
       "      <td>False</td>\n",
       "      <td>None</td>\n",
       "      <td>65000000</td>\n",
       "      <td>[{'id': 12, 'name': 'Adventure'}, {'id': 14, '...</td>\n",
       "      <td>None</td>\n",
       "      <td>8844</td>\n",
       "      <td>tt0113497</td>\n",
       "      <td>en</td>\n",
       "      <td>Jumanji</td>\n",
       "      <td>When siblings Judy and Peter discover an encha...</td>\n",
       "      <td>...</td>\n",
       "      <td>1995-12-15</td>\n",
       "      <td>262797249.0</td>\n",
       "      <td>104.0</td>\n",
       "      <td>[{'iso_639_1': 'en', 'name': 'English'}, {'iso...</td>\n",
       "      <td>Released</td>\n",
       "      <td>Roll the dice and unleash the excitement!</td>\n",
       "      <td>Jumanji</td>\n",
       "      <td>False</td>\n",
       "      <td>6.9</td>\n",
       "      <td>2413.0</td>\n",
       "    </tr>\n",
       "    <tr>\n",
       "      <th>2</th>\n",
       "      <td>False</td>\n",
       "      <td>{'id': 119050, 'name': 'Grumpy Old Men Collect...</td>\n",
       "      <td>0</td>\n",
       "      <td>[{'id': 10749, 'name': 'Romance'}, {'id': 35, ...</td>\n",
       "      <td>None</td>\n",
       "      <td>15602</td>\n",
       "      <td>tt0113228</td>\n",
       "      <td>en</td>\n",
       "      <td>Grumpier Old Men</td>\n",
       "      <td>A family wedding reignites the ancient feud be...</td>\n",
       "      <td>...</td>\n",
       "      <td>1995-12-22</td>\n",
       "      <td>0.0</td>\n",
       "      <td>101.0</td>\n",
       "      <td>[{'iso_639_1': 'en', 'name': 'English'}]</td>\n",
       "      <td>Released</td>\n",
       "      <td>Still Yelling. Still Fighting. Still Ready for...</td>\n",
       "      <td>Grumpier Old Men</td>\n",
       "      <td>False</td>\n",
       "      <td>6.5</td>\n",
       "      <td>92.0</td>\n",
       "    </tr>\n",
       "    <tr>\n",
       "      <th>3</th>\n",
       "      <td>False</td>\n",
       "      <td>None</td>\n",
       "      <td>16000000</td>\n",
       "      <td>[{'id': 35, 'name': 'Comedy'}, {'id': 18, 'nam...</td>\n",
       "      <td>None</td>\n",
       "      <td>31357</td>\n",
       "      <td>tt0114885</td>\n",
       "      <td>en</td>\n",
       "      <td>Waiting to Exhale</td>\n",
       "      <td>Cheated on, mistreated and stepped on, the wom...</td>\n",
       "      <td>...</td>\n",
       "      <td>1995-12-22</td>\n",
       "      <td>81452156.0</td>\n",
       "      <td>127.0</td>\n",
       "      <td>[{'iso_639_1': 'en', 'name': 'English'}]</td>\n",
       "      <td>Released</td>\n",
       "      <td>Friends are the people who let you be yourself...</td>\n",
       "      <td>Waiting to Exhale</td>\n",
       "      <td>False</td>\n",
       "      <td>6.1</td>\n",
       "      <td>34.0</td>\n",
       "    </tr>\n",
       "    <tr>\n",
       "      <th>4</th>\n",
       "      <td>False</td>\n",
       "      <td>{'id': 96871, 'name': 'Father of the Bride Col...</td>\n",
       "      <td>0</td>\n",
       "      <td>[{'id': 35, 'name': 'Comedy'}]</td>\n",
       "      <td>None</td>\n",
       "      <td>11862</td>\n",
       "      <td>tt0113041</td>\n",
       "      <td>en</td>\n",
       "      <td>Father of the Bride Part II</td>\n",
       "      <td>Just when George Banks has recovered from his ...</td>\n",
       "      <td>...</td>\n",
       "      <td>1995-02-10</td>\n",
       "      <td>76578911.0</td>\n",
       "      <td>106.0</td>\n",
       "      <td>[{'iso_639_1': 'en', 'name': 'English'}]</td>\n",
       "      <td>Released</td>\n",
       "      <td>Just When His World Is Back To Normal... He's ...</td>\n",
       "      <td>Father of the Bride Part II</td>\n",
       "      <td>False</td>\n",
       "      <td>5.7</td>\n",
       "      <td>173.0</td>\n",
       "    </tr>\n",
       "  </tbody>\n",
       "</table>\n",
       "<p>5 rows × 24 columns</p>\n",
       "</div>"
      ],
      "text/plain": [
       "   adult                              belongs_to_collection    budget  \\\n",
       "0  False  {'id': 10194, 'name': 'Toy Story Collection', ...  30000000   \n",
       "1  False                                               None  65000000   \n",
       "2  False  {'id': 119050, 'name': 'Grumpy Old Men Collect...         0   \n",
       "3  False                                               None  16000000   \n",
       "4  False  {'id': 96871, 'name': 'Father of the Bride Col...         0   \n",
       "\n",
       "                                              genres  \\\n",
       "0  [{'id': 16, 'name': 'Animation'}, {'id': 35, '...   \n",
       "1  [{'id': 12, 'name': 'Adventure'}, {'id': 14, '...   \n",
       "2  [{'id': 10749, 'name': 'Romance'}, {'id': 35, ...   \n",
       "3  [{'id': 35, 'name': 'Comedy'}, {'id': 18, 'nam...   \n",
       "4                     [{'id': 35, 'name': 'Comedy'}]   \n",
       "\n",
       "                               homepage     id    imdb_id original_language  \\\n",
       "0  http://toystory.disney.com/toy-story    862  tt0114709                en   \n",
       "1                                  None   8844  tt0113497                en   \n",
       "2                                  None  15602  tt0113228                en   \n",
       "3                                  None  31357  tt0114885                en   \n",
       "4                                  None  11862  tt0113041                en   \n",
       "\n",
       "                original_title  \\\n",
       "0                    Toy Story   \n",
       "1                      Jumanji   \n",
       "2             Grumpier Old Men   \n",
       "3            Waiting to Exhale   \n",
       "4  Father of the Bride Part II   \n",
       "\n",
       "                                            overview  ...  release_date  \\\n",
       "0  Led by Woody, Andy's toys live happily in his ...  ...    1995-10-30   \n",
       "1  When siblings Judy and Peter discover an encha...  ...    1995-12-15   \n",
       "2  A family wedding reignites the ancient feud be...  ...    1995-12-22   \n",
       "3  Cheated on, mistreated and stepped on, the wom...  ...    1995-12-22   \n",
       "4  Just when George Banks has recovered from his ...  ...    1995-02-10   \n",
       "\n",
       "       revenue runtime                                   spoken_languages  \\\n",
       "0  373554033.0    81.0           [{'iso_639_1': 'en', 'name': 'English'}]   \n",
       "1  262797249.0   104.0  [{'iso_639_1': 'en', 'name': 'English'}, {'iso...   \n",
       "2          0.0   101.0           [{'iso_639_1': 'en', 'name': 'English'}]   \n",
       "3   81452156.0   127.0           [{'iso_639_1': 'en', 'name': 'English'}]   \n",
       "4   76578911.0   106.0           [{'iso_639_1': 'en', 'name': 'English'}]   \n",
       "\n",
       "     status                                            tagline  \\\n",
       "0  Released                                               None   \n",
       "1  Released          Roll the dice and unleash the excitement!   \n",
       "2  Released  Still Yelling. Still Fighting. Still Ready for...   \n",
       "3  Released  Friends are the people who let you be yourself...   \n",
       "4  Released  Just When His World Is Back To Normal... He's ...   \n",
       "\n",
       "                         title  video vote_average vote_count  \n",
       "0                    Toy Story  False          7.7     5415.0  \n",
       "1                      Jumanji  False          6.9     2413.0  \n",
       "2             Grumpier Old Men  False          6.5       92.0  \n",
       "3            Waiting to Exhale  False          6.1       34.0  \n",
       "4  Father of the Bride Part II  False          5.7      173.0  \n",
       "\n",
       "[5 rows x 24 columns]"
      ]
     },
     "execution_count": 15,
     "metadata": {},
     "output_type": "execute_result"
    }
   ],
   "source": [
    "# Mostrar las primeras 5 filas del DataFrame de películas\n",
    "print(\"* Primeras 5 filas de 'movies_dataset':\")\n",
    "original_movies_df.head()"
   ]
  },
  {
   "cell_type": "code",
   "execution_count": 16,
   "metadata": {},
   "outputs": [
    {
     "name": "stdout",
     "output_type": "stream",
     "text": [
      "* Primeras 5 filas de 'credits_dataset':\n"
     ]
    },
    {
     "data": {
      "text/html": [
       "<div>\n",
       "<style scoped>\n",
       "    .dataframe tbody tr th:only-of-type {\n",
       "        vertical-align: middle;\n",
       "    }\n",
       "\n",
       "    .dataframe tbody tr th {\n",
       "        vertical-align: top;\n",
       "    }\n",
       "\n",
       "    .dataframe thead th {\n",
       "        text-align: right;\n",
       "    }\n",
       "</style>\n",
       "<table border=\"1\" class=\"dataframe\">\n",
       "  <thead>\n",
       "    <tr style=\"text-align: right;\">\n",
       "      <th></th>\n",
       "      <th>cast</th>\n",
       "      <th>crew</th>\n",
       "      <th>id</th>\n",
       "    </tr>\n",
       "  </thead>\n",
       "  <tbody>\n",
       "    <tr>\n",
       "      <th>0</th>\n",
       "      <td>[{'cast_id': 14, 'character': 'Woody (voice)',...</td>\n",
       "      <td>[{'credit_id': '52fe4284c3a36847f8024f49', 'de...</td>\n",
       "      <td>862</td>\n",
       "    </tr>\n",
       "    <tr>\n",
       "      <th>1</th>\n",
       "      <td>[{'cast_id': 1, 'character': 'Alan Parrish', '...</td>\n",
       "      <td>[{'credit_id': '52fe44bfc3a36847f80a7cd1', 'de...</td>\n",
       "      <td>8844</td>\n",
       "    </tr>\n",
       "    <tr>\n",
       "      <th>2</th>\n",
       "      <td>[{'cast_id': 2, 'character': 'Max Goldman', 'c...</td>\n",
       "      <td>[{'credit_id': '52fe466a9251416c75077a89', 'de...</td>\n",
       "      <td>15602</td>\n",
       "    </tr>\n",
       "    <tr>\n",
       "      <th>3</th>\n",
       "      <td>[{'cast_id': 1, 'character': \"Savannah 'Vannah...</td>\n",
       "      <td>[{'credit_id': '52fe44779251416c91011acb', 'de...</td>\n",
       "      <td>31357</td>\n",
       "    </tr>\n",
       "    <tr>\n",
       "      <th>4</th>\n",
       "      <td>[{'cast_id': 1, 'character': 'George Banks', '...</td>\n",
       "      <td>[{'credit_id': '52fe44959251416c75039ed7', 'de...</td>\n",
       "      <td>11862</td>\n",
       "    </tr>\n",
       "  </tbody>\n",
       "</table>\n",
       "</div>"
      ],
      "text/plain": [
       "                                                cast  \\\n",
       "0  [{'cast_id': 14, 'character': 'Woody (voice)',...   \n",
       "1  [{'cast_id': 1, 'character': 'Alan Parrish', '...   \n",
       "2  [{'cast_id': 2, 'character': 'Max Goldman', 'c...   \n",
       "3  [{'cast_id': 1, 'character': \"Savannah 'Vannah...   \n",
       "4  [{'cast_id': 1, 'character': 'George Banks', '...   \n",
       "\n",
       "                                                crew     id  \n",
       "0  [{'credit_id': '52fe4284c3a36847f8024f49', 'de...    862  \n",
       "1  [{'credit_id': '52fe44bfc3a36847f80a7cd1', 'de...   8844  \n",
       "2  [{'credit_id': '52fe466a9251416c75077a89', 'de...  15602  \n",
       "3  [{'credit_id': '52fe44779251416c91011acb', 'de...  31357  \n",
       "4  [{'credit_id': '52fe44959251416c75039ed7', 'de...  11862  "
      ]
     },
     "execution_count": 16,
     "metadata": {},
     "output_type": "execute_result"
    }
   ],
   "source": [
    "# Mostrar las primeras 5 filas del DataFrame de créditos\n",
    "print(\"* Primeras 5 filas de 'credits_dataset':\")\n",
    "original_credits_df.head()"
   ]
  },
  {
   "cell_type": "markdown",
   "metadata": {},
   "source": [
    "**Observaciones:**\n",
    "\n",
    "Al revisar ambos datasets, noto que movies contiene información esencial sobre las películas, como el título, la fecha de lanzamiento, el presupuesto y los ingresos, permitiendo el análisis del desempeño financiero. Por otro lado, credits detalla el elenco y el equipo, útil para identificar actores y directores y analizar su influencia en el éxito de las películas. Ambos datasets se pueden unir mediante la columna id, proporcionando una visión integral del contexto de cada película. Seguiré con las transformaciones necesarias."
   ]
  },
  {
   "cell_type": "markdown",
   "metadata": {},
   "source": [
    "#### **Elimino los archivos CSV**\n",
    "\n",
    "He decidido eliminar los archivos CSV credits.csv y movies_dataset.csv ahora que he cargado sus datos en los DataFrames correspondientes. Para hacerlo de manera segura, utilizo el módulo os de Python, que me permite interactuar con el sistema de archivos. Aquí está el código que utilizo:"
   ]
  },
  {
   "cell_type": "code",
   "execution_count": 17,
   "metadata": {},
   "outputs": [
    {
     "name": "stdout",
     "output_type": "stream",
     "text": [
      "* Datasets/credits.csv ha sido eliminado.\n",
      "* Datasets/movies_dataset.csv ha sido eliminado.\n"
     ]
    }
   ],
   "source": [
    "# Definir las rutas de los archivos CSV\n",
    "credits_file_path = 'Datasets/credits.csv'\n",
    "movies_file_path = 'Datasets/movies_dataset.csv'\n",
    "\n",
    "# Verificar si el archivo existe antes de eliminarlo y eliminarlo\n",
    "if os.path.exists(credits_file_path):\n",
    "    os.remove(credits_file_path)\n",
    "    print(f\"* {credits_file_path} ha sido eliminado.\")\n",
    "else:\n",
    "    print(f\"* {credits_file_path} no existe.\")\n",
    "\n",
    "if os.path.exists(movies_file_path):\n",
    "    os.remove(movies_file_path)\n",
    "    print(f\"* {movies_file_path} ha sido eliminado.\")\n",
    "else:\n",
    "    print(f\"* {movies_file_path} no existe.\")"
   ]
  },
  {
   "cell_type": "markdown",
   "metadata": {},
   "source": [
    "#### **Cargo los archivos Parquet originales**"
   ]
  },
  {
   "cell_type": "code",
   "execution_count": 18,
   "metadata": {},
   "outputs": [
    {
     "name": "stdout",
     "output_type": "stream",
     "text": [
      "* Datos de movies_df_original:\n",
      "   adult                              belongs_to_collection    budget  \\\n",
      "0  False  {'id': 10194, 'name': 'Toy Story Collection', ...  30000000   \n",
      "1  False                                               None  65000000   \n",
      "2  False  {'id': 119050, 'name': 'Grumpy Old Men Collect...         0   \n",
      "3  False                                               None  16000000   \n",
      "4  False  {'id': 96871, 'name': 'Father of the Bride Col...         0   \n",
      "\n",
      "                                              genres  \\\n",
      "0  [{'id': 16, 'name': 'Animation'}, {'id': 35, '...   \n",
      "1  [{'id': 12, 'name': 'Adventure'}, {'id': 14, '...   \n",
      "2  [{'id': 10749, 'name': 'Romance'}, {'id': 35, ...   \n",
      "3  [{'id': 35, 'name': 'Comedy'}, {'id': 18, 'nam...   \n",
      "4                     [{'id': 35, 'name': 'Comedy'}]   \n",
      "\n",
      "                               homepage     id    imdb_id original_language  \\\n",
      "0  http://toystory.disney.com/toy-story    862  tt0114709                en   \n",
      "1                                  None   8844  tt0113497                en   \n",
      "2                                  None  15602  tt0113228                en   \n",
      "3                                  None  31357  tt0114885                en   \n",
      "4                                  None  11862  tt0113041                en   \n",
      "\n",
      "                original_title  \\\n",
      "0                    Toy Story   \n",
      "1                      Jumanji   \n",
      "2             Grumpier Old Men   \n",
      "3            Waiting to Exhale   \n",
      "4  Father of the Bride Part II   \n",
      "\n",
      "                                            overview  ...  release_date  \\\n",
      "0  Led by Woody, Andy's toys live happily in his ...  ...    1995-10-30   \n",
      "1  When siblings Judy and Peter discover an encha...  ...    1995-12-15   \n",
      "2  A family wedding reignites the ancient feud be...  ...    1995-12-22   \n",
      "3  Cheated on, mistreated and stepped on, the wom...  ...    1995-12-22   \n",
      "4  Just when George Banks has recovered from his ...  ...    1995-02-10   \n",
      "\n",
      "       revenue runtime                                   spoken_languages  \\\n",
      "0  373554033.0    81.0           [{'iso_639_1': 'en', 'name': 'English'}]   \n",
      "1  262797249.0   104.0  [{'iso_639_1': 'en', 'name': 'English'}, {'iso...   \n",
      "2          0.0   101.0           [{'iso_639_1': 'en', 'name': 'English'}]   \n",
      "3   81452156.0   127.0           [{'iso_639_1': 'en', 'name': 'English'}]   \n",
      "4   76578911.0   106.0           [{'iso_639_1': 'en', 'name': 'English'}]   \n",
      "\n",
      "     status                                            tagline  \\\n",
      "0  Released                                               None   \n",
      "1  Released          Roll the dice and unleash the excitement!   \n",
      "2  Released  Still Yelling. Still Fighting. Still Ready for...   \n",
      "3  Released  Friends are the people who let you be yourself...   \n",
      "4  Released  Just When His World Is Back To Normal... He's ...   \n",
      "\n",
      "                         title  video vote_average vote_count  \n",
      "0                    Toy Story  False          7.7     5415.0  \n",
      "1                      Jumanji  False          6.9     2413.0  \n",
      "2             Grumpier Old Men  False          6.5       92.0  \n",
      "3            Waiting to Exhale  False          6.1       34.0  \n",
      "4  Father of the Bride Part II  False          5.7      173.0  \n",
      "\n",
      "[5 rows x 24 columns]\n",
      "\n",
      "* Datos de credits_df_original:\n",
      "                                                cast  \\\n",
      "0  [{'cast_id': 14, 'character': 'Woody (voice)',...   \n",
      "1  [{'cast_id': 1, 'character': 'Alan Parrish', '...   \n",
      "2  [{'cast_id': 2, 'character': 'Max Goldman', 'c...   \n",
      "3  [{'cast_id': 1, 'character': \"Savannah 'Vannah...   \n",
      "4  [{'cast_id': 1, 'character': 'George Banks', '...   \n",
      "\n",
      "                                                crew     id  \n",
      "0  [{'credit_id': '52fe4284c3a36847f8024f49', 'de...    862  \n",
      "1  [{'credit_id': '52fe44bfc3a36847f80a7cd1', 'de...   8844  \n",
      "2  [{'credit_id': '52fe466a9251416c75077a89', 'de...  15602  \n",
      "3  [{'credit_id': '52fe44779251416c91011acb', 'de...  31357  \n",
      "4  [{'credit_id': '52fe44959251416c75039ed7', 'de...  11862  \n"
     ]
    }
   ],
   "source": [
    "# Rutas de los archivos originales\n",
    "movies_original_path = 'Datasets/movies_dataset_formato.parquet'\n",
    "credits_original_path = 'Datasets/credits_formato.parquet'\n",
    "\n",
    "# Cargar los archivos Parquet originales\n",
    "movies_df_original = pd.read_parquet(movies_original_path)\n",
    "credits_df_original = pd.read_parquet(credits_original_path)\n",
    "\n",
    "# Mostrar las primeras filas de cada DataFrame para verificar que se cargaron correctamente\n",
    "print(\"* Datos de movies_df_original:\")\n",
    "print(movies_df_original.head())\n",
    "\n",
    "print(\"\\n* Datos de credits_df_original:\")\n",
    "print(credits_df_original.head())"
   ]
  }
 ],
 "metadata": {
  "kernelspec": {
   "display_name": "CineSugerenciasenv",
   "language": "python",
   "name": "python3"
  },
  "language_info": {
   "codemirror_mode": {
    "name": "ipython",
    "version": 3
   },
   "file_extension": ".py",
   "mimetype": "text/x-python",
   "name": "python",
   "nbconvert_exporter": "python",
   "pygments_lexer": "ipython3",
   "version": "3.11.4"
  }
 },
 "nbformat": 4,
 "nbformat_minor": 2
}
