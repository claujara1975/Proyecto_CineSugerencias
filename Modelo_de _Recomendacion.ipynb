{
 "cells": [
  {
   "cell_type": "markdown",
   "metadata": {},
   "source": [
    "#### **Librerías**"
   ]
  },
  {
   "cell_type": "code",
   "execution_count": 88,
   "metadata": {},
   "outputs": [],
   "source": [
    "from sklearn.preprocessing import OneHotEncoder\n",
    "import pandas as pd\n",
    "import matplotlib.pyplot as plt\n",
    "from sklearn.metrics.pairwise import cosine_similarity\n",
    "from sklearn.preprocessing import MinMaxScaler"
   ]
  },
  {
   "cell_type": "code",
   "execution_count": null,
   "metadata": {},
   "outputs": [],
   "source": [
    "# Definir las rutas de los archivos\n",
    "ruta_movies = 'Datasets/movies_df.parquet'\n",
    "ruta_crew = 'Datasets/crew_df.parquet'\n",
    "ruta_cast = 'Datasets/cast_df.parquet'\n",
    "\n",
    "# Cargar los archivos Parquet en DataFrames\n",
    "movies_df = pd.read_parquet(ruta_movies)\n",
    "crew_df = pd.read_parquet(ruta_crew)\n",
    "cast_df = pd.read_parquet(ruta_cast)\n",
    "\n",
    "\n",
    "# Cargar los DataFrames desde los archivos Parquet\n",
    "cast_df = pd.read_parquet('Datasets/cast_df_cleaned.parquet')\n",
    "crew_df = pd.read_parquet('Datasets/crew_df_cleaned.parquet')\n"
   ]
  },
  {
   "cell_type": "markdown",
   "metadata": {},
   "source": [
    "### **Modelo de Recomendación**\n",
    "\n",
    "En esta sección, desarrollaré un modelo de recomendación utilizando la similitud del coseno para ofrecer sugerencias personalizadas de películas. La similitud del coseno es una métrica comúnmente utilizada para medir la similitud entre dos vectores en un espacio multidimensional, lo que la convierte en una herramienta ideal para calcular la relación entre películas basadas en sus características."
   ]
  },
  {
   "cell_type": "markdown",
   "metadata": {},
   "source": [
    "#### **Preparación de Datos**\n",
    "\n",
    "Antes de construir el modelo, es fundamental preparar los datos adecuadamente. He filtrado el dataset de películas para incluir solo producciones de Estados Unidos a partir de 1975, lo que resultó en un total de **6,242** películas. Además, he limpiado el dataset eliminando outliers que podrían afectar el rendimiento del modelo.\n",
    "\n",
    "El siguiente paso será seleccionar las características que utilizaré para calcular la similitud. Consideraré las siguientes variables:\n",
    "\n",
    "**Género**: Los géneros de las películas, que son cruciales para entender las preferencias del usuario.\n",
    "\n",
    "Observé que el género Drama es el más frecuente, seguido de Comedy y Romance. A través de esta variable, podremos identificar qué tipos de películas son más atractivas para cada usuario.\n",
    "\n",
    "**Puntuaciones**: Las calificaciones promedio de las películas, que reflejan la calidad percibida.\n",
    "\n",
    "Un puntaje más alto puede indicar una película bien recibida, lo que puede influir en la recomendación. La distribución de puntajes promedio presenta una forma aproximadamente normal, con la mayoría de las películas agrupadas entre puntajes de 5 a 7.\n",
    "\n",
    "**Popularidad**: La popularidad de cada película, lo que puede influir en la decisión de visualización.\n",
    "\n",
    "Observé que la popularidad de las películas tiende a aumentar en las producciones más recientes. Las correlaciones muestran una relación moderada entre la popularidad y los ingresos, lo que sugiere que estas variables están vinculadas a la atención que recibe una película.\n",
    "\n",
    "**Palabras clave de los títulos**: Temas recurrentes en los títulos que pueden atraer a los usuarios.\n",
    "\n",
    "Generé una nube de palabras basada en los títulos de las películas, lo que me permite visualizar las palabras más frecuentes en estos títulos. Temas como \"Man\", \"Love\", \"Life\", \"Last\", y \"Girl\" aparecen en un tamaño mayor, sugiriendo que estos son comunes y relevantes al construir un sistema de recomendación."
   ]
  },
  {
   "cell_type": "markdown",
   "metadata": {},
   "source": [
    "**Aplicar One-Hot Encoding**\n",
    "\n",
    "Para aplicar One-Hot Encoding, primero divido la columna de géneros en múltiples filas usando `str.get_dummies(sep=', ')`. Esto convierte los géneros en columnas separadas, donde cada género está representado por un 1 o un 0. Luego, combino este nuevo DataFrame con el original, eliminando la columna de géneros. De esta manera, puedo analizar el retorno de las películas según su combinación de géneros de forma más efectiva. Este proceso facilita la construcción de modelos predictivos más precisos."
   ]
  },
  {
   "cell_type": "code",
   "execution_count": 90,
   "metadata": {},
   "outputs": [
    {
     "name": "stdout",
     "output_type": "stream",
     "text": [
      "Géneros más comunes:\n",
      "Empty DataFrame\n",
      "Columns: [genre, count]\n",
      "Index: []\n"
     ]
    }
   ],
   "source": [
    "# Contar películas por género\n",
    "\n",
    "# Supongamos que tienes tu DataFrame movies_df ya cargado con One-Hot Encoding para géneros.\n",
    "\n",
    "# Crear un nuevo DataFrame que sume las columnas de género\n",
    "genres_sum = movies_df.loc[:, movies_df.columns.str.startswith('genre_names_')].sum().reset_index()\n",
    "\n",
    "# Renombrar las columnas para facilitar el manejo\n",
    "genres_sum.columns = ['genre', 'count']\n",
    "\n",
    "# Filtrar los géneros que tienen más de X películas (por ejemplo, 100)\n",
    "min_movies = 100  # Cambia este valor según lo que necesites\n",
    "popular_genres = genres_sum[genres_sum['count'] > min_movies]\n",
    "\n",
    "# Mostrar los géneros más comunes\n",
    "print(\"Géneros más comunes:\")\n",
    "print(popular_genres)\n"
   ]
  },
  {
   "cell_type": "code",
   "execution_count": 91,
   "metadata": {},
   "outputs": [
    {
     "name": "stdout",
     "output_type": "stream",
     "text": [
      "genre_names\n",
      "Drama                                          4902\n",
      "Comedy                                         3367\n",
      "Documentary                                    2663\n",
      "                                               2115\n",
      "Drama, Romance                                 1290\n",
      "                                               ... \n",
      "Family, Fantasy, TV Movie                         0\n",
      "Family, Comedy, Drama, Music                      0\n",
      "Animation, Comedy, Science Fiction, Romance       0\n",
      "Animation, Family, Fantasy, Foreign               0\n",
      "Crime, Comedy, Adventure, Drama                   0\n",
      "Name: count, Length: 4065, dtype: int64\n"
     ]
    }
   ],
   "source": [
    "# Suponiendo que la columna original de géneros se llama 'genre_names'\n",
    "print(movies_df['genre_names'].value_counts())\n"
   ]
  },
  {
   "cell_type": "code",
   "execution_count": 92,
   "metadata": {},
   "outputs": [],
   "source": [
    "# Para eliminar filas sin géneros asignados\n",
    "movies_df = movies_df[movies_df['genre_names'].notna()]\n"
   ]
  },
  {
   "cell_type": "code",
   "execution_count": 93,
   "metadata": {},
   "outputs": [],
   "source": [
    "# Un ejemplo de One-Hot Encoding\n",
    "genre_dummies = movies_df['genre_names'].str.get_dummies(sep=', ')\n",
    "movies_df = pd.concat([movies_df, genre_dummies], axis=1)\n"
   ]
  },
  {
   "cell_type": "code",
   "execution_count": 94,
   "metadata": {},
   "outputs": [
    {
     "name": "stdout",
     "output_type": "stream",
     "text": [
      "genre_names\n",
      "Adventure, Family, Animation, Action, Comedy    213.849907\n",
      "Family, Fantasy, Romance                        143.650790\n",
      "Adventure, Action, Fantasy, Comedy              133.827820\n",
      "Action, Animation, Comedy, Family                88.561239\n",
      "Science Fiction, Adventure, Thriller             76.529815\n",
      "                                                   ...    \n",
      "Romance, Mystery, Thriller                             NaN\n",
      "Science Fiction, Western                               NaN\n",
      "TV Movie, Drama, Western, Romance                      NaN\n",
      "TV Movie, Horror, Family, Fantasy                      NaN\n",
      "War, Animation, Adventure                              NaN\n",
      "Name: popularity, Length: 4065, dtype: float64\n"
     ]
    },
    {
     "name": "stderr",
     "output_type": "stream",
     "text": [
      "C:\\Users\\NOTEBOOK\\AppData\\Local\\Temp\\ipykernel_12372\\4186050674.py:2: FutureWarning: The default of observed=False is deprecated and will be changed to True in a future version of pandas. Pass observed=False to retain current behavior or observed=True to adopt the future default and silence this warning.\n",
      "  popular_genres = movies_df.groupby('genre_names')['popularity'].mean().sort_values(ascending=False)\n"
     ]
    }
   ],
   "source": [
    "# Análisis de la relación entre géneros y popularidad\n",
    "popular_genres = movies_df.groupby('genre_names')['popularity'].mean().sort_values(ascending=False)\n",
    "print(popular_genres)\n"
   ]
  },
  {
   "cell_type": "code",
   "execution_count": 95,
   "metadata": {},
   "outputs": [],
   "source": [
    "# Eliminar géneros con NaN en popularidad\n",
    "popular_genres = popular_genres.dropna()\n"
   ]
  },
  {
   "cell_type": "code",
   "execution_count": 96,
   "metadata": {},
   "outputs": [
    {
     "data": {
      "image/png": "[encoded data removed]",
      "text/plain": [
       "<Figure size 640x480 with 1 Axes>"
      ]
     },
     "metadata": {},
     "output_type": "display_data"
    }
   ],
   "source": [
    "# Visualización de los géneros más populares\n",
    "popular_genres.head(10).plot(kind='bar')\n",
    "plt.title('Top 10 Géneros por Popularidad Promedio')\n",
    "plt.xlabel('Géneros')\n",
    "plt.ylabel('Popularidad Promedio')\n",
    "plt.xticks(rotation=45, ha='right')\n",
    "plt.show()\n"
   ]
  },
  {
   "cell_type": "markdown",
   "metadata": {},
   "source": [
    "En este gráfico de barras, veo los 10 géneros de películas más populares según su popularidad promedio. Los géneros Aventura, Comedia y Romance destacan por tener los valores de popularidad más altos, lo que indica que estos géneros tienden a atraer más audiencia. Otros géneros como Fantasía, Familia y Ciencia Ficción también tienen una popularidad significativa, aunque menor en comparación con los tres principales. Esta distribución sugiere que el público prefiere contenidos de aventura y comedia, lo que podría ser un factor relevante a considerar en un sistema de recomendaciones."
   ]
  },
  {
   "cell_type": "code",
   "execution_count": 97,
   "metadata": {},
   "outputs": [],
   "source": [
    "# Reemplazar NaNs por cadena vacía en la columna 'genre_names'\n",
    "movies_df['genre_names'] = movies_df['genre_names'].fillna('')\n",
    "\n"
   ]
  },
  {
   "cell_type": "code",
   "execution_count": 98,
   "metadata": {},
   "outputs": [],
   "source": [
    "# Crear una nueva columna 'genres' combinando columnas binarias\n",
    "movies_df['genres'] = movies_df[['Action', 'Adventure', 'Animation', 'Comedy', 'Crime', \n",
    "                                   'Documentary', 'Drama', 'Family', 'Fantasy', \n",
    "                                   'Foreign', 'History', 'Horror', 'Music', \n",
    "                                   'Mystery', 'Romance', 'Science Fiction', \n",
    "                                   'TV Movie', 'Thriller', 'War', 'Western']].apply(\n",
    "    lambda x: ', '.join(x.index[x == 1]), axis=1\n",
    ")\n",
    "\n",
    "# Reemplazar NaNs en la columna 'genres' por cadena vacía\n",
    "movies_df['genres'] = movies_df['genres'].fillna('')\n"
   ]
  },
  {
   "cell_type": "code",
   "execution_count": 99,
   "metadata": {},
   "outputs": [
    {
     "name": "stdout",
     "output_type": "stream",
     "text": [
      "{'d', 'S', 'h', 'F', 'v', 'u', 'l', 'e', 'r', 's', 'o', 'T', ',', 'H', 'D', 'A', 't', 'y', 'R', 'n', 'i', ' ', 'M', 'V', 'c', 'm', 'C', 'W', 'g', 'a'}\n"
     ]
    }
   ],
   "source": [
    "# Obtener todos los géneros en una lista\n",
    "all_genres = [genre for sublist in movies_df['genres'] for genre in sublist]\n",
    "\n",
    "# Obtener géneros únicos\n",
    "unique_genres = set(all_genres)\n",
    "print(unique_genres)\n"
   ]
  },
  {
   "cell_type": "code",
   "execution_count": 100,
   "metadata": {},
   "outputs": [
    {
     "name": "stdout",
     "output_type": "stream",
     "text": [
      "                            genre_names  Action  Adventure  Animation  Comedy\n",
      "0                                Action       1          0          0       0\n",
      "1                     Action, Adventure       1          1          0       0\n",
      "2          Action, Adventure, Animation       1          1          1       0\n",
      "3  Action, Adventure, Animation, Comedy       1          1          1       1\n"
     ]
    }
   ],
   "source": [
    "# Supongamos que tienes un DataFrame llamado 'movies_df' que contiene una columna con géneros.\n",
    "# Aquí solo crearemos un ejemplo básico de esa columna.\n",
    "data = {\n",
    "    'genre_names': [\n",
    "        'Action', \n",
    "        'Action, Adventure', \n",
    "        'Action, Adventure, Animation', \n",
    "        'Action, Adventure, Animation, Comedy'\n",
    "    ]\n",
    "}\n",
    "\n",
    "movies_df = pd.DataFrame(data)\n",
    "\n",
    "# Separar los géneros en columnas\n",
    "genres = movies_df['genre_names'].str.get_dummies(sep=', ')\n",
    "movies_df = pd.concat([movies_df, genres], axis=1)\n",
    "\n",
    "print(movies_df)\n"
   ]
  },
  {
   "cell_type": "code",
   "execution_count": 101,
   "metadata": {},
   "outputs": [
    {
     "name": "stdout",
     "output_type": "stream",
     "text": [
      "Action       4\n",
      "Adventure    3\n",
      "Animation    2\n",
      "Comedy       1\n",
      "dtype: int64\n"
     ]
    }
   ],
   "source": [
    "# Contar la cantidad de películas por género\n",
    "genre_counts = movies_df[['Action', 'Adventure', 'Animation', 'Comedy']].sum()\n",
    "print(genre_counts)\n"
   ]
  },
  {
   "cell_type": "code",
   "execution_count": 102,
   "metadata": {},
   "outputs": [
    {
     "name": "stdout",
     "output_type": "stream",
     "text": [
      "                            genre_names  Action  Adventure  Animation  Comedy\n",
      "0                                Action       1          0          0       0\n",
      "1                     Action, Adventure       1          1          0       0\n",
      "2          Action, Adventure, Animation       1          1          1       0\n",
      "3  Action, Adventure, Animation, Comedy       1          1          1       1\n"
     ]
    }
   ],
   "source": [
    "# Filtrar películas de acción\n",
    "action_movies = movies_df[movies_df['Action'] == 1]\n",
    "print(action_movies)\n"
   ]
  },
  {
   "cell_type": "code",
   "execution_count": 103,
   "metadata": {},
   "outputs": [
    {
     "name": "stdout",
     "output_type": "stream",
     "text": [
      "Action  Adventure  Animation  Comedy\n",
      "1       0          0          0         1.5\n",
      "        1          0          0         2.0\n",
      "                   1          0         1.8\n",
      "                              1         3.0\n",
      "Name: return, dtype: float64\n"
     ]
    }
   ],
   "source": [
    "# Asegúrate de tener una columna de retorno\n",
    "movies_df['return'] = [1.5, 2.0, 1.8, 3.0]  # Ejemplo de datos de retorno\n",
    "\n",
    "# Calcular el retorno promedio por género\n",
    "average_return_by_genre = movies_df.groupby(['Action', 'Adventure', 'Animation', 'Comedy'])['return'].mean()\n",
    "print(average_return_by_genre)\n"
   ]
  },
  {
   "cell_type": "code",
   "execution_count": 104,
   "metadata": {},
   "outputs": [
    {
     "name": "stdout",
     "output_type": "stream",
     "text": [
      "   Action  Adventure  Animation  Comedy  return\n",
      "0       1          0          0       0     1.5\n",
      "1       1          1          0       0     2.0\n",
      "2       1          1          1       0     1.8\n",
      "3       1          1          1       1     3.0\n"
     ]
    }
   ],
   "source": [
    "# Primero asegúrate de que la columna de retorno esté en el DataFrame\n",
    "movies_df['return'] = [1.5, 2.0, 1.8, 3.0]  # Asegúrate de tener estos valores en tu DataFrame\n",
    "\n",
    "# Calcular el retorno promedio por género\n",
    "average_return_by_genre = movies_df.groupby(['Action', 'Adventure', 'Animation', 'Comedy'])['return'].mean()\n",
    "\n",
    "# Convertir el resultado a un DataFrame para una mejor visualización\n",
    "average_return_df = average_return_by_genre.reset_index()\n",
    "print(average_return_df)\n"
   ]
  },
  {
   "cell_type": "markdown",
   "metadata": {},
   "source": [
    "Tengo un DataFrame bien estructurado que muestra el retorno promedio de películas categorizadas por sus géneros. Voy a analizar y extraer información útil de esta tabla.\n",
    "\n",
    "- Las columnas de géneros acción aventura animación y comedia indican si una película pertenece a cada género usando 1 para sí y 0 para no  \n",
    "- La columna de retorno muestra el retorno promedio basado en combinaciones de géneros  \n",
    "- Las películas de acción sin otros géneros tienen un retorno promedio de 1.5  \n",
    "- La combinación de acción y aventura tiene un retorno promedio de 2.0 indicando mayor popularidad  \n",
    "- Las películas que combinan acción aventura animación y comedia tienen el mayor retorno promedio de 3.0 sugiriendo éxito financiero"
   ]
  },
  {
   "cell_type": "markdown",
   "metadata": {},
   "source": [
    "#### **Normalización de Características**\n",
    "\n",
    "Si tienes características con diferentes escalas, como puntuación y popularidad, te recomiendo normalizarlas antes de calcular la similitud. Esto ayudará a que ninguna característica domine a las demás."
   ]
  },
  {
   "cell_type": "code",
   "execution_count": 105,
   "metadata": {},
   "outputs": [
    {
     "name": "stdout",
     "output_type": "stream",
     "text": [
      "Index(['genre_names', 'Action', 'Adventure', 'Animation', 'Comedy', 'return'], dtype='object')\n",
      "Index(['cast', 'crew', 'id'], dtype='object')\n",
      "Index(['id', 'crew_name', 'crew_job', 'department', 'gender'], dtype='object')\n",
      "Index(['id', 'cast_name', 'character', 'gender'], dtype='object')\n"
     ]
    }
   ],
   "source": [
    "print(movies_df.columns)\n",
    "print(credits_df.columns)\n",
    "print(crew_df.columns)\n",
    "print(cast_df.columns)\n"
   ]
  },
  {
   "cell_type": "code",
   "execution_count": 106,
   "metadata": {},
   "outputs": [
    {
     "name": "stdout",
     "output_type": "stream",
     "text": [
      "Columnas de movies_df: Index(['genre_names', 'Action', 'Adventure', 'Animation', 'Comedy', 'return'], dtype='object')\n",
      "Columnas de credits_df: Index(['cast', 'crew', 'id'], dtype='object')\n",
      "Columnas de crew_df: Index(['id', 'crew_name', 'crew_job', 'department', 'gender'], dtype='object')\n",
      "Columnas de cast_df: Index(['id', 'cast_name', 'character', 'gender'], dtype='object')\n"
     ]
    }
   ],
   "source": [
    "# Verificar las columnas de los DataFrames\n",
    "print(\"Columnas de movies_df:\", movies_df.columns)\n",
    "print(\"Columnas de credits_df:\", credits_df.columns)\n",
    "print(\"Columnas de crew_df:\", crew_df.columns)\n",
    "print(\"Columnas de cast_df:\", cast_df.columns)\n"
   ]
  },
  {
   "cell_type": "code",
   "execution_count": 107,
   "metadata": {},
   "outputs": [
    {
     "name": "stdout",
     "output_type": "stream",
     "text": [
      "                            genre_names  Action  Adventure  Animation  Comedy  \\\n",
      "0                                Action       1          0          0       0   \n",
      "1                     Action, Adventure       1          1          0       0   \n",
      "2          Action, Adventure, Animation       1          1          1       0   \n",
      "3  Action, Adventure, Animation, Comedy       1          1          1       1   \n",
      "\n",
      "   return  \n",
      "0     1.5  \n",
      "1     2.0  \n",
      "2     1.8  \n",
      "3     3.0  \n"
     ]
    }
   ],
   "source": [
    "# Ver primeras filas de movies_df\n",
    "print(movies_df.head())\n"
   ]
  },
  {
   "cell_type": "code",
   "execution_count": 110,
   "metadata": {},
   "outputs": [
    {
     "name": "stdout",
     "output_type": "stream",
     "text": [
      "Columnas de credits_df: Index(['cast', 'crew', 'id'], dtype='object')\n",
      "Columnas de crew_df: Index(['id', 'crew_name', 'crew_job', 'department', 'gender'], dtype='object')\n",
      "Columnas de cast_df: Index(['id', 'cast_name', 'character', 'gender'], dtype='object')\n"
     ]
    }
   ],
   "source": [
    "# Verifica las columnas de cada DataFrame\n",
    "print(\"Columnas de credits_df:\", credits_df.columns)\n",
    "print(\"Columnas de crew_df:\", crew_df.columns)\n",
    "print(\"Columnas de cast_df:\", cast_df.columns)\n"
   ]
  },
  {
   "cell_type": "code",
   "execution_count": null,
   "metadata": {},
   "outputs": [
    {
     "name": "stdout",
     "output_type": "stream",
     "text": [
      "Primeras filas de full_df:\n",
      "                    genre_names  Action  Adventure  Animation  Comedy  return  \\\n",
      "0                        Action       1          0          0       0     1.5   \n",
      "1             Action, Adventure       1          1          0       0     2.0   \n",
      "2  Action, Adventure, Animation       1          1          1       0     1.8   \n",
      "3  Action, Adventure, Animation       1          1          1       0     1.8   \n",
      "4  Action, Adventure, Animation       1          1          1       0     1.8   \n",
      "\n",
      "   movie_id                                               cast  \\\n",
      "0         0                                                NaN   \n",
      "1         1                                                NaN   \n",
      "2         2  [{'cast_id': 3, 'character': 'Taisto Olavi Kas...   \n",
      "3         2  [{'cast_id': 3, 'character': 'Taisto Olavi Kas...   \n",
      "4         2  [{'cast_id': 3, 'character': 'Taisto Olavi Kas...   \n",
      "\n",
      "                                                crew       crew_name  \\\n",
      "0                                                NaN             NaN   \n",
      "1                                                NaN             NaN   \n",
      "2  [{'credit_id': '52fe420dc3a36847f800001f', 'de...  Aki Kaurismäki   \n",
      "3  [{'credit_id': '52fe420dc3a36847f800001f', 'de...  Aki Kaurismäki   \n",
      "4  [{'credit_id': '52fe420dc3a36847f800001f', 'de...  Aki Kaurismäki   \n",
      "\n",
      "     crew_job department  gender_x         cast_name  \\\n",
      "0         NaN        NaN       NaN               NaN   \n",
      "1         NaN        NaN       NaN               NaN   \n",
      "2  Screenplay    Writing       0.0       Turo Pajala   \n",
      "3  Screenplay    Writing       0.0  Susanna Haavisto   \n",
      "4  Screenplay    Writing       0.0      Eetu Hilkamo   \n",
      "\n",
      "                  character  gender_y  \n",
      "0                       NaN       NaN  \n",
      "1                       NaN       NaN  \n",
      "2    Taisto Olavi Kasurinen       0.0  \n",
      "3  Irmeli Katariina Pihlaja       0.0  \n",
      "4                      Riku       0.0  \n"
     ]
    }
   ],
   "source": [
    "# Renombrar la columna 'id' a 'movie_id' en los DataFrames secundarios\n",
    "credits_df.rename(columns={'id': 'movie_id'}, inplace=True)\n",
    "crew_df.rename(columns={'id': 'movie_id'}, inplace=True)\n",
    "cast_df.rename(columns={'id': 'movie_id'}, inplace=True)\n",
    "\n",
    "# Ahora realizar el merge usando 'movie_id'\n",
    "full_df = (movies_df\n",
    "            .merge(credits_df, on='movie_id', how='left')\n",
    "            .merge(crew_df, on='movie_id', how='left')\n",
    "            .merge(cast_df, on='movie_id', how='left'))\n",
    "\n",
    "# Verifica el resultado\n",
    "print(\"Primeras filas de full_df:\")\n",
    "print(full_df.head())\n",
    "\n"
   ]
  },
  {
   "cell_type": "code",
   "execution_count": 112,
   "metadata": {},
   "outputs": [
    {
     "name": "stdout",
     "output_type": "stream",
     "text": [
      "Primeras filas de cast_df:\n",
      "   movie_id      cast_name                character  gender\n",
      "0       862      Tom Hanks            Woody (voice)       2\n",
      "1       862      Tim Allen   Buzz Lightyear (voice)       2\n",
      "2       862    Don Rickles  Mr. Potato Head (voice)       2\n",
      "3       862     Jim Varney       Slinky Dog (voice)       2\n",
      "4       862  Wallace Shawn              Rex (voice)       2\n",
      "\n",
      "Primeras filas de crew_df:\n",
      "   movie_id       crew_name    crew_job department  gender\n",
      "0       862   John Lasseter    Director  Directing       2\n",
      "1       862     Joss Whedon  Screenplay    Writing       2\n",
      "2       862  Andrew Stanton  Screenplay    Writing       2\n",
      "3       862      Joel Cohen  Screenplay    Writing       2\n",
      "4       862    Alec Sokolow  Screenplay    Writing       0\n"
     ]
    }
   ],
   "source": [
    "# Mostrar las primeras filas de cast_df\n",
    "print(\"Primeras filas de cast_df:\")\n",
    "print(cast_df.head())\n",
    "\n",
    "# Mostrar las primeras filas de crew_df\n",
    "print(\"\\nPrimeras filas de crew_df:\")\n",
    "print(crew_df.head())\n"
   ]
  },
  {
   "cell_type": "code",
   "execution_count": 113,
   "metadata": {},
   "outputs": [],
   "source": [
    "# Crear el escalador\n",
    "scaler = MinMaxScaler()\n",
    "\n",
    "# Normalizar solo las columnas disponibles\n",
    "X_normalized = scaler.fit_transform(average_return_df[['Action', 'Adventure', 'Animation', 'Comedy', 'return']])\n"
   ]
  },
  {
   "cell_type": "code",
   "execution_count": 114,
   "metadata": {},
   "outputs": [],
   "source": [
    "# Supongamos que deseas seguir adelante con el modelado usando las columnas disponibles\n",
    "X = average_return_df[['Action', 'Adventure', 'Animation', 'Comedy']]\n",
    "y = average_return_df['return']  # O cualquier otra variable que estés tratando de predecir\n",
    "\n",
    "# Aquí puedes seguir con la división de datos o el modelado\n",
    "from sklearn.model_selection import train_test_split\n",
    "\n",
    "X_train, X_test, y_train, y_test = train_test_split(X, y, test_size=0.2, random_state=42)\n",
    "\n",
    "# Aquí podrías agregar tu modelo\n",
    "from sklearn.linear_model import LinearRegression\n",
    "\n",
    "model = LinearRegression()\n",
    "model.fit(X_train, y_train)\n",
    "\n",
    "# Realiza predicciones y evalúa el modelo\n",
    "predictions = model.predict(X_test)"
   ]
  },
  {
   "cell_type": "markdown",
   "metadata": {},
   "source": [
    "#### **Cálculo de la Similitud del Coseno**\n",
    "\n",
    "Primero, preparé mis datos asegurándome de que las columnas de características estén listas. Uso cosine_similarity de sklearn para calcular la similitud entre las películas. La matriz resultante me muestra qué tan similares son entre sí: un valor cercano a 1 significa que son muy parecidas."
   ]
  },
  {
   "cell_type": "code",
   "execution_count": 115,
   "metadata": {},
   "outputs": [
    {
     "name": "stdout",
     "output_type": "stream",
     "text": [
      "Index(['Action', 'Adventure', 'Animation', 'Comedy', 'return'], dtype='object')\n"
     ]
    }
   ],
   "source": [
    "print(average_return_df.columns)\n"
   ]
  },
  {
   "cell_type": "code",
   "execution_count": 116,
   "metadata": {},
   "outputs": [
    {
     "name": "stdout",
     "output_type": "stream",
     "text": [
      "          0         1         2         3\n",
      "0  1.000000  0.707107  0.577350  0.500000\n",
      "1  0.707107  1.000000  0.816497  0.707107\n",
      "2  0.577350  0.816497  1.000000  0.866025\n",
      "3  0.500000  0.707107  0.866025  1.000000\n"
     ]
    }
   ],
   "source": [
    "# Creamos una matriz de características\n",
    "feature_columns = ['Action', 'Adventure', 'Animation', 'Comedy']\n",
    "feature_matrix = average_return_df[feature_columns]\n",
    "\n",
    "# Calculamos la similitud del coseno\n",
    "similarity_matrix = cosine_similarity(feature_matrix)\n",
    "\n",
    "# Convertimos la matriz de similitud en un DataFrame, usando los índices del DataFrame original\n",
    "similarity_df = pd.DataFrame(similarity_matrix, index=average_return_df.index, columns=average_return_df.index)\n",
    "\n",
    "# Mostramos las primeras filas de la matriz de similitud\n",
    "print(similarity_df.head())"
   ]
  },
  {
   "cell_type": "markdown",
   "metadata": {},
   "source": [
    "La matriz de similitud del coseno se ha calculado correctamente. Ahora, puedo ver qué tan similares son las películas entre sí:\n",
    "\n",
    "1.0 en la diagonal principal me dice que una película es completamente similar a sí misma.\n",
    "Los otros valores, que van de 0 a 1, me muestran la similitud entre distintas películas. Por ejemplo, un valor de 0.707107 entre la película 0 y la película 1 me indica que son bastante parecidas."
   ]
  },
  {
   "cell_type": "markdown",
   "metadata": {},
   "source": [
    "#### **Recomendar Películas Similares:**\n",
    "\n",
    "Ahora usaré esta matriz para hacer recomendaciones. Si quiero buscar películas parecidas a una en específico, podría hacerlo así:"
   ]
  },
  {
   "cell_type": "code",
   "execution_count": 117,
   "metadata": {},
   "outputs": [
    {
     "name": "stdout",
     "output_type": "stream",
     "text": [
      "1    0.707107\n",
      "2    0.577350\n",
      "3    0.500000\n",
      "Name: 0, dtype: float64\n"
     ]
    }
   ],
   "source": [
    "# Quiero encontrar películas similares a la película con índice 0\n",
    "movie_index = 0\n",
    "similar_movies = similarity_df[movie_index].sort_values(ascending=False)\n",
    "\n",
    "# Excluyo la misma película porque su similitud es 1\n",
    "similar_movies = similar_movies[similar_movies.index != movie_index]\n",
    "\n",
    "# Muestro las películas más similares\n",
    "print(similar_movies.head(5))\n"
   ]
  },
  {
   "cell_type": "markdown",
   "metadata": {},
   "source": [
    "Obtuve los valores de similitud de la película con índice 0 respecto a las demás:\n",
    "\n",
    "- 0.707107 con la película 1, lo que indica una similitud alta.\n",
    "- 0.577350 con la película 2, que sigue siendo bastante similar.\n",
    "- 0.500000 con la película 3, lo que muestra una similitud moderada.\n",
    "\n",
    "¿Qué Significa Esto?\n",
    "\n",
    "Estos valores me ayudan a identificar qué películas son más parecidas a la película con índice 0 en función de las características que seleccioné (por ejemplo, géneros). Puedo usar esta información para recomendar películas que tengan características similares, lo cual es útil para construir un sistema de recomendación."
   ]
  },
  {
   "cell_type": "markdown",
   "metadata": {},
   "source": [
    "#### **Implementación de la Función recomendacion (titulo)**\n",
    "\n",
    "- Calcular la Similaridad del Coseno: Ya hemos calculado una matriz de similitud usando cosine_similarity.\n",
    "- Crear la Función recomendacion: Esta función tomará el título de una película, buscará las películas similares usando la matriz de similitud, y devolverá una lista de las 5 más similares."
   ]
  },
  {
   "cell_type": "code",
   "execution_count": 118,
   "metadata": {},
   "outputs": [],
   "source": [
    "from ast import literal_eval\n",
    "\n",
    "# Asegúrate de que todos los valores en genre_names sean cadenas antes de aplicar literal_eval\n",
    "def safe_literal_eval(x):\n",
    "    try:\n",
    "        return literal_eval(x) if isinstance(x, str) else []\n",
    "    except (ValueError, SyntaxError):\n",
    "        return []\n",
    "\n",
    "# Crear la columna 'genre_combination' utilizando la función segura\n",
    "full_df['genre_combination'] = full_df['genre_names'].apply(\n",
    "    lambda x: ', '.join(safe_literal_eval(x)) if isinstance(x, str) else ''\n",
    ")\n"
   ]
  },
  {
   "cell_type": "code",
   "execution_count": null,
   "metadata": {},
   "outputs": [
    {
     "name": "stdout",
     "output_type": "stream",
     "text": [
      "Action  Adventure  Animation  Comedy\n",
      "1       0          0          0         1.5\n",
      "        1          0          0         2.0\n",
      "                   1          0         1.8\n",
      "                              1         3.0\n",
      "Name: return, dtype: float64\n"
     ]
    }
   ],
   "source": [
    "print(average_return_by_genre.head())\n"
   ]
  },
  {
   "cell_type": "code",
   "execution_count": 122,
   "metadata": {},
   "outputs": [
    {
     "name": "stdout",
     "output_type": "stream",
     "text": [
      "<class 'pandas.core.series.Series'>\n"
     ]
    }
   ],
   "source": [
    "# Verificar si es un DataFrame o Series\n",
    "print(type(average_return_by_genre))\n",
    "\n"
   ]
  },
  {
   "cell_type": "code",
   "execution_count": 124,
   "metadata": {},
   "outputs": [
    {
     "name": "stdout",
     "output_type": "stream",
     "text": [
      "Index(['return'], dtype='object')\n"
     ]
    }
   ],
   "source": [
    "print(average_return_by_genre.columns)\n"
   ]
  },
  {
   "cell_type": "code",
   "execution_count": 126,
   "metadata": {},
   "outputs": [
    {
     "name": "stdout",
     "output_type": "stream",
     "text": [
      "RangeIndex(start=0, stop=4, step=1)\n",
      "MultiIndex([(1, 0, 0, 0),\n",
      "            (1, 1, 0, 0),\n",
      "            (1, 1, 1, 0),\n",
      "            (1, 1, 1, 1)],\n",
      "           names=['Action', 'Adventure', 'Animation', 'Comedy'])\n"
     ]
    }
   ],
   "source": [
    "print(movies_df.index)\n",
    "print(average_return_by_genre.index)\n"
   ]
  },
  {
   "cell_type": "code",
   "execution_count": 127,
   "metadata": {},
   "outputs": [],
   "source": [
    "# Restablecer el índice de ambos DataFrames\n",
    "movies_df_reset = movies_df.reset_index(drop=True)\n",
    "average_return_by_genre_reset = average_return_by_genre.reset_index(drop=True)\n",
    "\n",
    "# Realizar el join ahora que ambos tienen el mismo índice\n",
    "combined_df = movies_df_reset[genre_columns].join(average_return_by_genre_reset)\n"
   ]
  },
  {
   "cell_type": "code",
   "execution_count": 140,
   "metadata": {},
   "outputs": [],
   "source": [
    "# Asegúrate de que el índice de average_return_by_genre sea igual al de movies_df\n",
    "average_return_by_genre.index = movies_df.index\n",
    "\n",
    "# Asegúrate de que los índices sean iguales\n",
    "average_return_by_genre.index = pd.Index(movies_df.index)\n",
    "average_return_by_genre = average_return_by_genre.reindex(movies_df.index)\n",
    "\n",
    "average_return_by_genre = average_return_by_genre.astype('float64')\n",
    "\n",
    "# Restablecer índices para asegurar que estén alineados\n",
    "movies_df = movies_df.reset_index(drop=True)\n",
    "average_return_by_genre = average_return_by_genre.reset_index(drop=True)\n",
    "\n",
    "# Realizar el join especificando sufijos para las columnas duplicadas\n",
    "combined_df = movies_df.join(average_return_by_genre, how='left', lsuffix='_movies', rsuffix='_average_return')\n",
    "\n",
    "# Realizar el join especificando sufijos para las columnas duplicadas\n",
    "combined_df = movies_df.join(average_return_by_genre, how='left', lsuffix='_movies', rsuffix='_average_return')\n",
    "\n",
    "# Si solo te interesa la columna 'return_movies', puedes eliminar 'return_average_return'\n",
    "combined_df = combined_df.drop(columns=['return_average_return'])\n",
    "\n",
    "# Si prefieres renombrar las columnas para algo más específico\n",
    "combined_df = combined_df.rename(columns={'return_movies': 'return_movies_value', \n",
    "                                           'return_average_return': 'average_return_by_genre'})\n"
   ]
  },
  {
   "cell_type": "code",
   "execution_count": 141,
   "metadata": {},
   "outputs": [
    {
     "name": "stdout",
     "output_type": "stream",
     "text": [
      "Index(['genre_names', 'Action', 'Adventure', 'Animation', 'Comedy', 'return',\n",
      "       'movie_id'],\n",
      "      dtype='object')\n",
      "                      genre_combination  return\n",
      "0                                Action     1.5\n",
      "1                     Action, Adventure     2.0\n",
      "2          Action, Adventure, Animation     1.8\n",
      "3  Action, Adventure, Animation, Comedy     3.0\n"
     ]
    }
   ],
   "source": [
    "# Suponiendo que 'movies_df' es el DataFrame que tiene las columnas de géneros\n",
    "# Asegúrate de tener las columnas correctas de géneros en 'movies_df'\n",
    "\n",
    "# Verifica las columnas de 'movies_df'\n",
    "print(movies_df.columns)\n",
    "\n",
    "# Selecciona las columnas de géneros\n",
    "genre_columns = ['Action', 'Adventure', 'Animation', 'Comedy']  # Ajusta esto según los géneros disponibles\n",
    "\n",
    "# Combina las columnas de géneros con 'average_return_by_genre'\n",
    "combined_df = movies_df[genre_columns].join(average_return_by_genre)\n",
    "\n",
    "# Crear la columna 'genre_combination' con los géneros presentes (valor 1)\n",
    "combined_df['genre_combination'] = combined_df[genre_columns].apply(\n",
    "    lambda row: ', '.join([col for col in row.index if row[col] == 1]), axis=1\n",
    ")\n",
    "\n",
    "# Ahora puedes trabajar con 'combined_df', que tiene tanto los géneros como la columna 'return'\n",
    "print(combined_df[['genre_combination', 'return']].head())\n",
    "\n"
   ]
  },
  {
   "cell_type": "code",
   "execution_count": 142,
   "metadata": {},
   "outputs": [
    {
     "name": "stdout",
     "output_type": "stream",
     "text": [
      "Columnas disponibles en average_return_df después de la fusión:\n",
      "['Action', 'Adventure', 'Animation', 'Comedy', 'return', 'genre_combination', 'movie_id']\n",
      "Primeras filas de average_return_df:\n",
      "   Action  Adventure  Animation  Comedy  return  \\\n",
      "0       1          0          0       0     1.5   \n",
      "1       1          1          0       0     2.0   \n",
      "2       1          1          1       0     1.8   \n",
      "3       1          1          1       1     3.0   \n",
      "\n",
      "                        genre_combination  movie_id  \n",
      "0                               (Action,)         0  \n",
      "1                     (Action, Adventure)         1  \n",
      "2          (Action, Adventure, Animation)         2  \n",
      "3  (Action, Adventure, Animation, Comedy)         3  \n"
     ]
    }
   ],
   "source": [
    "# Asegúrate de que estás utilizando la columna 'genre_names' correctamente.\n",
    "# Crear una columna de combinaciones de géneros\n",
    "movies_df['genre_combination'] = movies_df['genre_names'].apply(lambda x: tuple(sorted(x.split(', '))) if isinstance(x, str) else ())\n",
    "\n",
    "# Crear un DataFrame de movie_id y combinaciones de géneros\n",
    "genre_movie_map = movies_df[['movie_id', 'genre_combination']].drop_duplicates()\n",
    "\n",
    "# Crear genre_combination en average_return_df\n",
    "average_return_df['genre_combination'] = average_return_df.apply(lambda row: tuple(sorted([k for k in row.index if row[k] == 1])), axis=1)\n",
    "\n",
    "# Fusionar average_return_df con genre_movie_map para obtener movie_id\n",
    "average_return_df = average_return_df.merge(genre_movie_map, on='genre_combination', how='left')\n",
    "\n",
    "# Verifica que average_return_df ahora contenga movie_id\n",
    "print(\"Columnas disponibles en average_return_df después de la fusión:\")\n",
    "print(average_return_df.columns.tolist())\n",
    "print(\"Primeras filas de average_return_df:\")\n",
    "print(average_return_df.head())\n",
    "\n"
   ]
  },
  {
   "cell_type": "markdown",
   "metadata": {},
   "source": [
    "Dado que no hay una columna title en movies_df, parece que los títulos de las películas no están disponibles en el DataFrame actual que estoy utilizando.\n",
    "\n",
    "#### **Verifica el DataFrame Original**\n",
    "\n",
    "Primero, me asegúro de que los títulos estén presentes en uno de los DataFrames originales. Podría ser que estén en un DataFrame que no recuerdo hasta ahora, o que haya realizado alguna transformación que eliminó la columna title.\n"
   ]
  },
  {
   "cell_type": "code",
   "execution_count": 143,
   "metadata": {},
   "outputs": [
    {
     "name": "stdout",
     "output_type": "stream",
     "text": [
      "                            genre_names  Action  Adventure  Animation  Comedy  \\\n",
      "0                                Action       1          0          0       0   \n",
      "1                     Action, Adventure       1          1          0       0   \n",
      "2          Action, Adventure, Animation       1          1          1       0   \n",
      "3  Action, Adventure, Animation, Comedy       1          1          1       1   \n",
      "\n",
      "   return  movie_id                       genre_combination  \n",
      "0     1.5         0                               (Action,)  \n",
      "1     2.0         1                     (Action, Adventure)  \n",
      "2     1.8         2          (Action, Adventure, Animation)  \n",
      "3     3.0         3  (Action, Adventure, Animation, Comedy)  \n"
     ]
    }
   ],
   "source": [
    "# Muestra las primeras filas del DataFrame original para verificar su contenido\n",
    "print(movies_df.head())\n"
   ]
  },
  {
   "cell_type": "code",
   "execution_count": 144,
   "metadata": {},
   "outputs": [
    {
     "name": "stdout",
     "output_type": "stream",
     "text": [
      "Se ha renombrado la columna 'id' a 'movie_id'.\n",
      "Columnas disponibles en titles_df: ['adult', 'belongs_to_collection', 'budget', 'genres', 'homepage', 'movie_id', 'imdb_id', 'original_language', 'original_title', 'overview', 'popularity', 'poster_path', 'production_companies', 'production_countries', 'release_date', 'revenue', 'runtime', 'spoken_languages', 'status', 'tagline', 'title', 'video', 'vote_average', 'vote_count']\n"
     ]
    }
   ],
   "source": [
    "# Cargar el DataFrame desde el archivo Parquet\n",
    "titles_df = pd.read_parquet('Datasets/movies_dataset_formato.parquet')  # Asegúrate de usar la ruta correcta\n",
    "\n",
    "# Verificar si las columnas 'title' y 'id' están disponibles\n",
    "if 'title' in titles_df.columns and 'id' in titles_df.columns:\n",
    "    # Renombrar la columna 'id' a 'movie_id'\n",
    "    titles_df.rename(columns={'id': 'movie_id'}, inplace=True)\n",
    "    print(\"Se ha renombrado la columna 'id' a 'movie_id'.\")\n",
    "else:\n",
    "    print(\"Faltan las columnas necesarias en el DataFrame.\")\n",
    "\n",
    "# Verificar las columnas del DataFrame después del cambio\n",
    "print(\"Columnas disponibles en titles_df:\", titles_df.columns.tolist())\n"
   ]
  },
  {
   "cell_type": "code",
   "execution_count": 145,
   "metadata": {},
   "outputs": [
    {
     "name": "stdout",
     "output_type": "stream",
     "text": [
      "            revenue\n",
      "count  4.546000e+04\n",
      "mean   1.120935e+07\n",
      "std    6.433225e+07\n",
      "min    0.000000e+00\n",
      "25%    0.000000e+00\n",
      "50%    0.000000e+00\n",
      "75%    0.000000e+00\n",
      "max    2.787965e+09\n",
      "budget     0\n",
      "revenue    0\n",
      "dtype: int64\n"
     ]
    }
   ],
   "source": [
    "# Resumen estadístico de las columnas 'budget' y 'revenue'\n",
    "print(titles_df[['budget', 'revenue']].describe())\n",
    "\n",
    "# Verificar la cantidad de valores nulos en esas columnas\n",
    "print(titles_df[['budget', 'revenue']].isnull().sum())\n"
   ]
  },
  {
   "cell_type": "markdown",
   "metadata": {},
   "source": [
    "#### **Resumen del Análisis de revenue**\n",
    "\n",
    "La columna revenue muestra que hay 45,460 películas registradas, con un ingreso promedio de aproximadamente 11.2 millones de dólares. Sin embargo, el 25% de las películas no generaron ingresos, y la mediana es 0, lo que indica que la mayoría no tuvo éxito financiero. La película con mayores ingresos alcanzó casi 2.8 mil millones de dólares, sugiriendo que unos pocos títulos dominaron el mercado."
   ]
  },
  {
   "cell_type": "code",
   "execution_count": 146,
   "metadata": {},
   "outputs": [
    {
     "name": "stdout",
     "output_type": "stream",
     "text": [
      "   adult                              belongs_to_collection    budget  \\\n",
      "0  False  {'id': 10194, 'name': 'Toy Story Collection', ...  30000000   \n",
      "1  False                                               None  65000000   \n",
      "2  False  {'id': 119050, 'name': 'Grumpy Old Men Collect...         0   \n",
      "3  False                                               None  16000000   \n",
      "4  False  {'id': 96871, 'name': 'Father of the Bride Col...         0   \n",
      "\n",
      "                                              genres  \\\n",
      "0  [{'id': 16, 'name': 'Animation'}, {'id': 35, '...   \n",
      "1  [{'id': 12, 'name': 'Adventure'}, {'id': 14, '...   \n",
      "2  [{'id': 10749, 'name': 'Romance'}, {'id': 35, ...   \n",
      "3  [{'id': 35, 'name': 'Comedy'}, {'id': 18, 'nam...   \n",
      "4                     [{'id': 35, 'name': 'Comedy'}]   \n",
      "\n",
      "                               homepage     id    imdb_id original_language  \\\n",
      "0  http://toystory.disney.com/toy-story    862  tt0114709                en   \n",
      "1                                  None   8844  tt0113497                en   \n",
      "2                                  None  15602  tt0113228                en   \n",
      "3                                  None  31357  tt0114885                en   \n",
      "4                                  None  11862  tt0113041                en   \n",
      "\n",
      "                original_title  \\\n",
      "0                    Toy Story   \n",
      "1                      Jumanji   \n",
      "2             Grumpier Old Men   \n",
      "3            Waiting to Exhale   \n",
      "4  Father of the Bride Part II   \n",
      "\n",
      "                                            overview  ...  release_date  \\\n",
      "0  Led by Woody, Andy's toys live happily in his ...  ...    1995-10-30   \n",
      "1  When siblings Judy and Peter discover an encha...  ...    1995-12-15   \n",
      "2  A family wedding reignites the ancient feud be...  ...    1995-12-22   \n",
      "3  Cheated on, mistreated and stepped on, the wom...  ...    1995-12-22   \n",
      "4  Just when George Banks has recovered from his ...  ...    1995-02-10   \n",
      "\n",
      "       revenue runtime                                   spoken_languages  \\\n",
      "0  373554033.0    81.0           [{'iso_639_1': 'en', 'name': 'English'}]   \n",
      "1  262797249.0   104.0  [{'iso_639_1': 'en', 'name': 'English'}, {'iso...   \n",
      "2          0.0   101.0           [{'iso_639_1': 'en', 'name': 'English'}]   \n",
      "3   81452156.0   127.0           [{'iso_639_1': 'en', 'name': 'English'}]   \n",
      "4   76578911.0   106.0           [{'iso_639_1': 'en', 'name': 'English'}]   \n",
      "\n",
      "     status                                            tagline  \\\n",
      "0  Released                                               None   \n",
      "1  Released          Roll the dice and unleash the excitement!   \n",
      "2  Released  Still Yelling. Still Fighting. Still Ready for...   \n",
      "3  Released  Friends are the people who let you be yourself...   \n",
      "4  Released  Just When His World Is Back To Normal... He's ...   \n",
      "\n",
      "                         title  video vote_average vote_count  \n",
      "0                    Toy Story  False          7.7     5415.0  \n",
      "1                      Jumanji  False          6.9     2413.0  \n",
      "2             Grumpier Old Men  False          6.5       92.0  \n",
      "3            Waiting to Exhale  False          6.1       34.0  \n",
      "4  Father of the Bride Part II  False          5.7      173.0  \n",
      "\n",
      "[5 rows x 24 columns]\n",
      "Columnas disponibles en titles_df: ['adult', 'belongs_to_collection', 'budget', 'genres', 'homepage', 'id', 'imdb_id', 'original_language', 'original_title', 'overview', 'popularity', 'poster_path', 'production_companies', 'production_countries', 'release_date', 'revenue', 'runtime', 'spoken_languages', 'status', 'tagline', 'title', 'video', 'vote_average', 'vote_count']\n",
      "Faltan las columnas necesarias en el DataFrame.\n"
     ]
    }
   ],
   "source": [
    "# Reemplaza 'tus_datos_de_titulos.parquet' con la ruta a tu archivo Parquet\n",
    "titles_df = pd.read_parquet('Datasets/movies_dataset_formato.parquet')  # Asegúrate de usar la ruta correcta\n",
    "\n",
    "# Muestra las primeras filas del DataFrame para verificar su contenido\n",
    "print(titles_df.head())  # Esto te dará una vista rápida de los datos\n",
    "\n",
    "# Muestra las columnas del DataFrame\n",
    "print(\"Columnas disponibles en titles_df:\", titles_df.columns.tolist())  # Imprime las columnas\n",
    "\n",
    "# Verifica que el DataFrame titles_df contiene 'movie_id' y 'title'\n",
    "if 'movie_id' in titles_df.columns and 'title' in titles_df.columns:\n",
    "    print(\"Los datos se han cargado correctamente y las columnas están disponibles.\")\n",
    "else:\n",
    "    print(\"Faltan las columnas necesarias en el DataFrame.\")\n"
   ]
  }
 ],
 "metadata": {
  "kernelspec": {
   "display_name": "CineSugerenciasenv",
   "language": "python",
   "name": "python3"
  },
  "language_info": {
   "codemirror_mode": {
    "name": "ipython",
    "version": 3
   },
   "file_extension": ".py",
   "mimetype": "text/x-python",
   "name": "python",
   "nbconvert_exporter": "python",
   "pygments_lexer": "ipython3",
   "version": "3.11.4"
  }
 },
 "nbformat": 4,
 "nbformat_minor": 2
}
